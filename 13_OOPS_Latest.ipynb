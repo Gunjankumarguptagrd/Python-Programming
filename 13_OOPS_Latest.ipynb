{
  "cells": [
    {
      "cell_type": "markdown",
      "metadata": {
        "id": "dEO0rJEHTsXO"
      },
      "source": [
        "# 13. Object Oriented Programming concepts\n",
        "\n",
        "__Object Oriented Programming (OOP)__ is a programming paradigm that allows abstraction through the concept of interacting entities. This programming works contradictory to conventional model and is procedural, in which programs are organized as a sequence of commands or statements to perform.\n",
        "\n",
        "We can think an object as an entity that resides in memory, has a state and it's able to perform some actions. \n",
        " \n",
        "More formally objects are entities that represent **instances** of a general abstract concept called **class**. In `Python`, \"attributes\" are the variables defining an object state and the possible actions are called \"methods\".\n",
        "\n",
        "In Python, everything is an object also classes and functions.\n",
        "\n",
        "Each class represents meaningful view of the objects that are instances of this class,\n",
        "without going into too much detail or giving others access to the inner\n",
        "workings of the objects i.e. how it works internally. The class contains instance variables,\n",
        "also known as data members as well as some methods for some purpose also\n",
        "known as member functions. Object of the class can access this methods to achieve something meaningful."
      ]
    },
    {
      "cell_type": "markdown",
      "metadata": {
        "id": "gfmu6hFATsXV"
      },
      "source": [
        "## 13.1 Goals of object oriented design"
      ]
    },
    {
      "cell_type": "markdown",
      "metadata": {
        "id": "8pBTap42TsXZ"
      },
      "source": [
        "### Robustness\n",
        "\n",
        "**1)** Our program should run properly even with unexpected data\n",
        "\n",
        "**2)** We need to write in such a way that it handles complex programs and it can handle with unexpected data.\n",
        "\n",
        "Every developer develop application in such a way that\n",
        "an application will give correct output in all the scenarios. \n",
        "Our application will be robust, that is, it should capable enough for handling\n",
        "unexpected data that is not predefined.\n",
        "For example,\n",
        "if a program is expecting a string and instead it will receive negative integer, then the program should be able to\n",
        "recover and handle this type of error gracefully.\n",
        "\n",
        "Writing software programs is a style of programming that dealing with surprising and unforeseen activities. It expects code to deal with these types of terminations and expectations and run smmothly."
      ]
    },
    {
      "cell_type": "markdown",
      "metadata": {
        "id": "YKipS011TsXg"
      },
      "source": [
        "### Adaptability\n",
        "\n",
        "**1)** Software program or application will grow over a life time\n",
        "\n",
        "**2)** The application should build such a way that is should run with different versions, different generations, different hardware as well. \n",
        "\n",
        "Software program or application should have the option to advance after some time in light of changing conditions.\n",
        "Along these lines, this is significant objective of value in programming that flexibility ought to be accomplished. \n",
        "Program should be build in such a way that it will run with minor change on various hardware and os platforms."
      ]
    },
    {
      "cell_type": "markdown",
      "metadata": {
        "id": "f0TAY0keTsXk"
      },
      "source": [
        "### Reusability\n",
        "\n",
        "Building from reusable applications to avoid making entire new application just like rebuilding entire wheel.\n",
        "\n",
        "Software should be reusable, that is, the same code should be reusable as a component for different applications.\n",
        "Developing quality software application can be an expensive and if the software is designed in a way that makes it easily\n",
        "reusable in future applications, it will helpful in productivity and also can reduce cost for new application."
      ]
    },
    {
      "cell_type": "markdown",
      "metadata": {
        "id": "T4GhKVd2TsXm"
      },
      "source": [
        "## 13.2 How to define classes"
      ]
    },
    {
      "cell_type": "markdown",
      "metadata": {
        "id": "i3S6hf5ZTsXn"
      },
      "source": [
        "### Creating a class\n",
        "\n",
        "Suppose we want to create a class, named Person, as a prototype, a sort of template for any number of 'Person' objects (instances)."
      ]
    },
    {
      "cell_type": "markdown",
      "metadata": {
        "id": "isOX24prTsXq"
      },
      "source": [
        "The following python syntax defines a class:\n",
        "\n",
        "    class ClassName(base_classes):\n",
        "        statements\n",
        "\n",
        "        "
      ]
    },
    {
      "cell_type": "markdown",
      "metadata": {
        "id": "TW_wbi92TsXs"
      },
      "source": [
        "Class names should always be uppercase (it's a naming convention)."
      ]
    },
    {
      "cell_type": "markdown",
      "metadata": {
        "id": "aEvq7pJCTsXu"
      },
      "source": [
        "Say we need to model a Person as:\n",
        "\n",
        "* Name\n",
        "* Surname  \n",
        "* Age  "
      ]
    },
    {
      "cell_type": "code",
      "execution_count": null,
      "metadata": {
        "id": "_old3aXaTsXw"
      },
      "outputs": [],
      "source": [
        "class Person:\n",
        "    pass\n",
        "\n",
        "john_doe = Person()\n",
        "john_doe.name = \"Alec\"\n",
        "john_doe.surname = \"Baldwin\"\n",
        "john_doe.year_of_birth = 1958\n",
        "\n",
        "\n",
        "print(john_doe)\n",
        "print(\"%s %s was born in %d.\" %\n",
        "      (john_doe.name, john_doe.surname, john_doe.year_of_birth))"
      ]
    },
    {
      "cell_type": "markdown",
      "metadata": {
        "id": "jVMakfVdTsYI"
      },
      "source": [
        "pass is generally used where code will eventually run without any errors."
      ]
    },
    {
      "cell_type": "code",
      "execution_count": null,
      "metadata": {
        "id": "MQxb09WpTsYL"
      },
      "outputs": [],
      "source": [
        "class Person:\n",
        "    pass"
      ]
    },
    {
      "cell_type": "markdown",
      "metadata": {
        "id": "zHfkC8u4TsYY"
      },
      "source": [
        "The following example defines an empty class (i.e. the class doesn't have a state) called _Person_ then creates a _Person_ instance called _john_doe_ and adds three attributes to _john_doe_. We see that we can access objects attributes using the \"dot\" operator.\n",
        "\n",
        "This isn't a recommended style because classes should describe homogeneous entities. A way to do so is the following:"
      ]
    },
    {
      "cell_type": "code",
      "execution_count": null,
      "metadata": {
        "id": "yw6rVCiBTsYb"
      },
      "outputs": [],
      "source": [
        "class Person:\n",
        "    def __init__(self, name, surname, year_of_birth):\n",
        "        self.name = name\n",
        "        self.surname = surname\n",
        "        self.year_of_birth = year_of_birth"
      ]
    },
    {
      "cell_type": "markdown",
      "metadata": {
        "id": "VC3pdDyGTsYp"
      },
      "source": [
        "    __init__(self, ...)\n",
        "Is a special _Python_ method that is automatically called after an object construction. Its purpose is to initialize every object state. The first argument (by convention) __self__ is automatically passed either and refers to the object itself.\n",
        "\n",
        "In the preceding example, `__init__` adds three attributes to every object that is instantiated. So the class is actually describing each object's state.\n",
        "\n",
        "Attributes created in `__init__` method are called instance attributes, so name,surname and year_of_birth are called instance attributes."
      ]
    },
    {
      "cell_type": "code",
      "execution_count": null,
      "metadata": {
        "id": "858KrMleTsYq"
      },
      "outputs": [],
      "source": [
        "class Person:\n",
        "    # Here we can declare class attributes\n",
        "    company = \"iNeuron\"\n",
        "    \n",
        "    def __init__(self, name, surname, year_of_birth):\n",
        "        self.name = name\n",
        "        self.surname = surname\n",
        "        self.year_of_birth = year_of_birth\n",
        "    def show(self):\n",
        "        print(self.name,self.surname,self.company)"
      ]
    },
    {
      "cell_type": "code",
      "execution_count": null,
      "metadata": {
        "id": "H97glT5nzQgD"
      },
      "outputs": [],
      "source": [
        "alec = Person(\"sunny\", \"savita\", 1996)"
      ]
    },
    {
      "cell_type": "code",
      "execution_count": null,
      "metadata": {
        "id": "WeamVhfkzQgF"
      },
      "outputs": [],
      "source": [
        "Person.company"
      ]
    },
    {
      "cell_type": "code",
      "execution_count": null,
      "metadata": {
        "id": "P5U0m6EszQgG"
      },
      "outputs": [],
      "source": [
        "type(alec)"
      ]
    },
    {
      "cell_type": "code",
      "execution_count": null,
      "metadata": {
        "id": "OLVm5hhizQgI"
      },
      "outputs": [],
      "source": [
        "id(alec)"
      ]
    },
    {
      "cell_type": "code",
      "execution_count": null,
      "metadata": {
        "id": "zDUTKiA3zQgJ"
      },
      "outputs": [],
      "source": []
    },
    {
      "cell_type": "code",
      "execution_count": null,
      "metadata": {
        "id": "5XhcrpFhzQgK"
      },
      "outputs": [],
      "source": [
        "alec.show()"
      ]
    },
    {
      "cell_type": "code",
      "execution_count": null,
      "metadata": {
        "id": "4MPZzRm-zQgL"
      },
      "outputs": [],
      "source": [
        "alec.surname"
      ]
    },
    {
      "cell_type": "code",
      "execution_count": null,
      "metadata": {
        "id": "-QAxmxPNzQgM"
      },
      "outputs": [],
      "source": [
        "print(alec)"
      ]
    },
    {
      "cell_type": "markdown",
      "metadata": {
        "id": "A2IwCNSKTsY5"
      },
      "source": [
        "Here comapny is called class variables and we can use class variables if it will not change for entire class and their methods and functions. It should be same for entire class and every instance. We can use instance attributes which will vary from one instance to another instances of the class."
      ]
    },
    {
      "cell_type": "markdown",
      "metadata": {
        "id": "zn8lZI3CTsY7"
      },
      "source": [
        "We cannot directly manipulate any class rather we need to create an instance of the class: "
      ]
    },
    {
      "cell_type": "code",
      "execution_count": null,
      "metadata": {
        "id": "hU3Vbg5pTsY8"
      },
      "outputs": [],
      "source": [
        "alec = Person(\"Alechgffh\", \"Baldwin\", 1958)\n",
        "print(alec)\n",
        "print(\"%s %s was born in %d.\" % (alec.name, alec.surname, alec.year_of_birth))"
      ]
    },
    {
      "cell_type": "code",
      "execution_count": null,
      "metadata": {
        "id": "j7astN8uTsZE"
      },
      "outputs": [],
      "source": [
        "# Can access class attribute company in a similar way\n",
        "alec.company"
      ]
    },
    {
      "cell_type": "markdown",
      "metadata": {
        "id": "BE0COFeTTsZL"
      },
      "source": [
        "\n",
        "We have just created an instance of the Person class, bound to the variable `alec`. "
      ]
    },
    {
      "cell_type": "code",
      "execution_count": null,
      "metadata": {
        "id": "gursKOypTsZN"
      },
      "outputs": [],
      "source": [
        "# Another example\n",
        "class Student:\n",
        "    \n",
        "    def __init__(self,first_name,last_name,age,class_,section):\n",
        "        self.first_name = first_name\n",
        "        last_name = last_name\n",
        "        self.age = age\n",
        "        self.class_ = class_\n",
        "        self.section = section\n",
        "        print(last_name)\n",
        "    def show(self):\n",
        "        print(self.first_name,self.last_name)"
      ]
    },
    {
      "cell_type": "code",
      "execution_count": null,
      "metadata": {
        "id": "ONs0hqAGzQgQ"
      },
      "outputs": [],
      "source": [
        "student1 = Student(\"Ram\",\"Kumar\",17,10,\"A\")"
      ]
    },
    {
      "cell_type": "code",
      "execution_count": null,
      "metadata": {
        "id": "70hS6vZSzQgR"
      },
      "outputs": [],
      "source": [
        "student1.show()"
      ]
    },
    {
      "cell_type": "code",
      "execution_count": null,
      "metadata": {
        "id": "48QLj7p8TsZZ"
      },
      "outputs": [],
      "source": [
        "\n",
        "student2 = Student(\"Shyam\",\"Sharma\",16,9,\"C\")"
      ]
    },
    {
      "cell_type": "code",
      "execution_count": null,
      "metadata": {
        "id": "GR1ZGHVeTsZn"
      },
      "outputs": [],
      "source": [
        "print(\"Details of first student : Name = {0}, Age= {1} , class_section = {2}\".\n",
        "      format(student1.first_name+ \" \" +student1.last_name, student1.age, str(student1.class_)+student1.section))"
      ]
    },
    {
      "cell_type": "code",
      "execution_count": null,
      "metadata": {
        "id": "N6Q_ZX61TsZw"
      },
      "outputs": [],
      "source": [
        "print(\"Details of second student : Name = {0}, Age= {1} , class_section = {2}\".\n",
        "      format(student2.first_name+ \" \" +student2.last_name, student2.age, str(student2.class_)+student2.section))"
      ]
    },
    {
      "cell_type": "markdown",
      "metadata": {
        "id": "XOqTpG8TTsaB"
      },
      "source": [
        "### Methods"
      ]
    },
    {
      "cell_type": "code",
      "execution_count": null,
      "metadata": {
        "id": "Kmd4qvnFTsaE"
      },
      "outputs": [],
      "source": [
        "class Person:\n",
        "    def __init__(a, name, surname, year_of_birth):\n",
        "        a.name = name\n",
        "        a.surname = surname\n",
        "        a.year_of_birth = year_of_birth\n",
        "    \n",
        "    def age(a, current_year):\n",
        "        return current_year - a.year_of_birth\n",
        "    \n",
        "    def __str__(a):\n",
        "        return \"%s %s was born in %d .\" % (a.name, a.surname, a.year_of_birth)\n",
        "    \n",
        "alec = Person(\"Alec\", \"Baldwin\", 1958)\n",
        "print(alec)\n",
        "print(alec.age(2014))\n"
      ]
    },
    {
      "cell_type": "markdown",
      "metadata": {
        "id": "0r169ioZTsaU"
      },
      "source": [
        "We defined two more methods `age` and  `__str__`. The latter is once again a special method that is called by Python when the object has to be represented as a string (e.g. when has to be printed). If the `__str__` method isn't defined the **print** command shows the type of object and its address in memory. We can see that in order to call a method we use the same syntax for attributes (**instance_name.instance _method**).\n",
        "\n",
        ".__init__() and .__str__() methods are called dunder methods. We can call as dunder methods beacause they begin and end with double underscores."
      ]
    },
    {
      "cell_type": "code",
      "execution_count": null,
      "metadata": {
        "id": "RZmGP3_oTsaX"
      },
      "outputs": [],
      "source": [
        "#Let's look at another database example for class methods\n",
        "# For more detail about database, we will look in future classes.\n",
        "import sqlite3\n",
        "\n",
        "class DataBaseOperations:\n",
        "\n",
        "    def __init__(self,databasename):\n",
        "        \n",
        "        self.databasename = databasename\n",
        "\n",
        "    def createDatabase(self):\n",
        "        try:\n",
        "            conn = sqlite3.connect(self.databasename)\n",
        "        except ConnectionError:\n",
        "            raise ConnectionError\n",
        "        return conn\n",
        "\n",
        "    def createTable(self,tablename,dictionaryOfcolumnNamesAndcolumnDatatypes):\n",
        "        try:\n",
        "            conn = self.createDatabase()\n",
        "            c = conn.cursor()\n",
        "            for key in dictionaryOfcolumnNamesAndcolumnDatatypes.keys():\n",
        "                datatype = dictionaryOfcolumnNamesAndcolumnDatatypes[key]\n",
        "                try:\n",
        "                    conn.execute(\n",
        "                        'ALTER TABLE {tableName} ADD COLUMN \"{column_name}\" {dataType}'.format(tableName=tablename,\n",
        "                                                                                               column_name=key,\n",
        "                                                                                               dataType=datatype))\n",
        "                except:\n",
        "                    conn.execute('CREATE TABLE {tableName} ({column_name} {dataType})'.format(tableName=tablename,\n",
        "                                                                                              column_name=key,\n",
        "                                                                                              dataType=datatype))\n",
        "            print(\"Table {0} created in database {1}\".format(tablename,self.databasename))\n",
        "            self.closeDbConnection(conn)\n",
        "            print(\"Connection to database closed!!\")\n",
        "        except Exception as e:\n",
        "            conn.rollback()\n",
        "            self.closeDbConnection(conn)\n",
        "            print(\"Connection to database closed!!\")\n",
        "\n",
        "            print(\"Exception occured: \" + str(e))\n",
        "\n",
        "    def insertIntoTable(self,tablename, listOfvaluesToInsert):\n",
        "        try:\n",
        "            conn = self.createDatabase()\n",
        "            conn.execute('INSERT INTO {tablename}  values ({values})'.format(tablename = tablename,values=(listOfvaluesToInsert)))\n",
        "            conn.commit()\n",
        "            print(\"Values Inserted Successfully!!!\")\n",
        "            self.closeDbConnection(conn)\n",
        "            print(\"Connection to database closed!!\")\n",
        "        except Exception as e:\n",
        "            conn.rollback()\n",
        "            self.closeDbConnection(conn)\n",
        "            print(\"Connection to database closed!!\")\n",
        "            print(\"Error occured: \" + str(e))\n",
        "\n",
        "        # self.closeDbconnection()\n",
        "    \n",
        "    def selectFromTable(self,tablename):\n",
        "\n",
        "        try:\n",
        "            conn = self.createDatabase()\n",
        "            c = conn.cursor()\n",
        "            c.execute(\"SELECT *  FROM {table}\".format(table=tablename))\n",
        "            print(\"values in table : \" ,c.fetchall())\n",
        "            self.closeDbConnection(conn)\n",
        "            print(\"Connection to database closed!!\")\n",
        "            \n",
        "        except Exception as e:\n",
        "            self.closeDbConnection(conn)\n",
        "            print(\"Connection to database closed!!\")\n",
        "            print(\"Error occured: \" + str(e))\n",
        "    \n",
        "    def closeDbConnection(self,connection):\n",
        "       \n",
        "        connection.close()"
      ]
    },
    {
      "cell_type": "code",
      "execution_count": null,
      "metadata": {
        "id": "tyu_-0J0Tsaf"
      },
      "outputs": [],
      "source": [
        "#creating an object of class databaseOperations\n",
        "db = DataBaseOperations(\"test1\")"
      ]
    },
    {
      "cell_type": "code",
      "execution_count": null,
      "metadata": {
        "id": "siG2S5rzTsan"
      },
      "outputs": [],
      "source": [
        "#creating database\n",
        "db.createDatabase()"
      ]
    },
    {
      "cell_type": "code",
      "execution_count": null,
      "metadata": {
        "id": "eu6T7Ak7Tsav"
      },
      "outputs": [],
      "source": [
        "tableDetails = {\"studentId\" : \"INTEGER\", \"studentRoll\" : \"INTEGER\", \"studentMarks\" : \"FLOAT\"}"
      ]
    },
    {
      "cell_type": "code",
      "execution_count": null,
      "metadata": {
        "id": "xHHoHbrkTsa5"
      },
      "outputs": [],
      "source": [
        "db.createTable(\"table1\",tableDetails)"
      ]
    },
    {
      "cell_type": "code",
      "execution_count": null,
      "metadata": {
        "id": "ZzWnfrD7Tsa_"
      },
      "outputs": [],
      "source": [
        "valuesToisnert= ('1,1,97')"
      ]
    },
    {
      "cell_type": "code",
      "execution_count": null,
      "metadata": {
        "id": "lKlvqSqzTsbG"
      },
      "outputs": [],
      "source": [
        "# Inserting values\n",
        "db.insertIntoTable(\"table1\",valuesToisnert)"
      ]
    },
    {
      "cell_type": "code",
      "execution_count": null,
      "metadata": {
        "id": "z3Jjw3RoTsbN"
      },
      "outputs": [],
      "source": [
        "db.selectFromTable(\"table1\")"
      ]
    },
    {
      "cell_type": "markdown",
      "metadata": {
        "id": "kY_PuasfTsbd"
      },
      "source": [
        "### Bad practice\n",
        "\n",
        "It is possible to create a class without the `__init__` method, but this is not a recommended style because classes should describe homogeneous entities."
      ]
    },
    {
      "cell_type": "code",
      "execution_count": null,
      "metadata": {
        "id": "q7qlsdl9Tsbg"
      },
      "outputs": [],
      "source": [
        "class Person:\n",
        "  \n",
        "    def set_name(self, name):\n",
        "        self.name = name\n",
        "        \n",
        "    def set_surname(self, surname):\n",
        "        self.surname = surname\n",
        "        \n",
        "    def set_year_of_birth(self, year_of_birth):\n",
        "        self.year_of_birth = year_of_birth\n",
        "        \n",
        "    def age(self, current_year):\n",
        "        return current_year - self.year_of_birth\n",
        "    \n",
        "    def __str__(self):\n",
        "        return \"%s %s was born in %d .\" \\\n",
        "                % (self.name, self.surname, self.year_of_birth)\n",
        "    "
      ]
    },
    {
      "cell_type": "markdown",
      "metadata": {
        "id": "6Ifg6tgITsbl"
      },
      "source": [
        "In this case, an empty instance of the class Person is created, and no attributes have been initialized while instantiating:"
      ]
    },
    {
      "cell_type": "code",
      "execution_count": null,
      "metadata": {
        "id": "_7KGHC8zTsbl"
      },
      "outputs": [],
      "source": [
        "president = Person()"
      ]
    },
    {
      "cell_type": "code",
      "execution_count": null,
      "metadata": {
        "id": "NJ45HsksTsbr"
      },
      "outputs": [],
      "source": [
        "# This code will raise an attribute error:\n",
        "print(president.name)"
      ]
    },
    {
      "cell_type": "markdown",
      "metadata": {
        "id": "HUdhzUfPTsb0"
      },
      "source": [
        "This raises an Attribute Error... We need to set the attributes:"
      ]
    },
    {
      "cell_type": "code",
      "execution_count": null,
      "metadata": {
        "id": "kCq7riR6Tsb0"
      },
      "outputs": [],
      "source": [
        "president.set_name('John')\n",
        "president.set_surname('Doe')\n",
        "president.set_year_of_birth(1940)"
      ]
    },
    {
      "cell_type": "code",
      "execution_count": null,
      "metadata": {
        "id": "WIEkEwwATsb6"
      },
      "outputs": [],
      "source": [
        "print('Mr', president.name, president.surname,\n",
        "      'is the president, and he is very old. He is',\n",
        "      president.age(2014))"
      ]
    },
    {
      "cell_type": "markdown",
      "metadata": {
        "id": "stMCvbtgTsb-"
      },
      "source": [
        "### Protect your abstraction\n",
        "\n",
        "Here the instance attributes shouldn't be accessible by the end user of an object as they are powerful mean of abstraction they should not reveal the internal implementation detail. In Python, there is no specific strict mechanism to protect object attributes but the official guidelines suggest that a variable that has an underscore prefix should be treated as 'Private'.\n",
        "\n",
        "Moreover prepending two underscores to a variable name makes the interpreter mangle a little the variable name."
      ]
    },
    {
      "cell_type": "code",
      "execution_count": null,
      "metadata": {
        "id": "V4hoCtOfTsb_"
      },
      "outputs": [],
      "source": [
        "class Person:\n",
        "    def __init__(self, name, surname, year_of_birth):\n",
        "        self._name = name # _ single underscore means protected\n",
        "        self._surname = surname\n",
        "        self._year_of_birth = year_of_birth\n",
        "    \n",
        "    def age(self, current_year):\n",
        "        return current_year - self._year_of_birth\n",
        "    \n",
        "    def __str__(self):\n",
        "        return \"%s %s and was born %d.\" \\\n",
        "                % (self._name, self._surname, self._year_of_birth)\n",
        "    \n",
        "alec = Person(\"Alec\", \"Baldwin\", 1958)\n",
        "print(alec)\n",
        "print(alec._surname)"
      ]
    },
    {
      "cell_type": "code",
      "execution_count": null,
      "metadata": {
        "id": "Tb3IvLUGTscE"
      },
      "outputs": [],
      "source": [
        "class Person:\n",
        "    def __init__(a, name, surname, year_of_birth): # we can give whichever name we can give instead of self\n",
        "        a.__name = name # __ double underscore means private members of a class\n",
        "        a.__surname = surname\n",
        "        a.__year_of_birth = year_of_birth\n",
        "    \n",
        "    def age(self, current_year):\n",
        "        return current_year - self.__year_of_birth\n",
        "    \n",
        "    def __str__(self):\n",
        "        return \"%s %s and was born %d.\" \\\n",
        "                % (self.__name, self.__surname, self.__year_of_birth)\n",
        "    \n",
        "alec = Person(\"Alec\", \"Baldwin\", 1958)\n",
        "print(alec._Person__name) # For accessing private elements of a class"
      ]
    },
    {
      "cell_type": "markdown",
      "metadata": {
        "id": "D5t6GcoDTscJ"
      },
      "source": [
        "`__dict__` is a special attribute is a dictionary containing each attribute of an object. We can see that prepending two underscores every key has `_ClassName__` prepended."
      ]
    },
    {
      "cell_type": "markdown",
      "metadata": {
        "id": "HbRbErxETscK"
      },
      "source": [
        "## 13.3 Inheritance\n",
        "\n",
        "Once a class is defined it models a concept. It is useful to extend a class behavior to model a less general concept. Say we need to model a Student, but we know that every student is also a Person so we shouldn't model the Person again but inherit from it instead.\n",
        "\n",
        "Through inheritance one can take all the methods and attributes from the another class and we can override or extend the methods from the another class. The class which is overriding is called child class and the class from methods are taking is called parent class."
      ]
    },
    {
      "cell_type": "code",
      "execution_count": null,
      "metadata": {
        "id": "jToD4taITscL"
      },
      "outputs": [],
      "source": [
        "class Student(Person):\n",
        "    def __init__(self, student_id, *args):\n",
        "        super(Student, self).__init__(*args)\n",
        "        self._student_id = student_id\n",
        "        \n",
        "charlie = Student(1, 'Charlie', 'Brown', 2006)\n",
        "print(charlie._student_id)\n",
        "print(type(charlie))\n",
        "print(isinstance(charlie, Person))\n",
        "print(isinstance(charlie, object))\n"
      ]
    },
    {
      "cell_type": "markdown",
      "metadata": {
        "id": "LOUdCC0dTscP"
      },
      "source": [
        "Charlie now has the same behavior of a Person, but his state has also a student ID. A Person is one of the base classes of Student and Student is one of the sub classes of Person. Be aware that a subclass knows about its superclasses but the converse isn't true.\n",
        "\n",
        "A sub class doesn't only inherits from its base classes, but from its base classes too, forming an inheritance tree that starts from a object (every class base class).\n",
        "\n",
        "    super(Class, instance)\n",
        "    \n",
        "is a function that returns a proxy-object that delegates method calls to a parent or sibling class of type.\n",
        "So we used it to access Person's `__init__`."
      ]
    },
    {
      "cell_type": "code",
      "execution_count": null,
      "metadata": {
        "id": "45qywuQsTscP"
      },
      "outputs": [],
      "source": [
        "# Another example \n",
        "class StudentMarks(DataBaseOperations): # inheriting the DatabaseOperation class\n",
        "    \n",
        "    def __init__ (self, ID, RollNumber, Marks):\n",
        "        \n",
        "        self.id= ID\n",
        "        self.RollNum = RollNumber\n",
        "        self.Marks = Marks\n",
        "        self.databasename = \"StudentDetails\""
      ]
    },
    {
      "cell_type": "code",
      "execution_count": null,
      "metadata": {
        "id": "ZMxfEasmTscT"
      },
      "outputs": [],
      "source": [
        "student1 = StudentMarks(23,34,76)"
      ]
    },
    {
      "cell_type": "code",
      "execution_count": null,
      "metadata": {
        "id": "feZPO5WpTscX"
      },
      "outputs": [],
      "source": [
        "student1.createDatabase()"
      ]
    },
    {
      "cell_type": "code",
      "execution_count": null,
      "metadata": {
        "id": "Q3EwXAWRTscc"
      },
      "outputs": [],
      "source": [
        "tableDetails = {\"studentId\" : \"INTEGER\", \"studentRoll\" : \"INTEGER\", \"studentMarks\" : \"FLOAT\"}"
      ]
    },
    {
      "cell_type": "code",
      "execution_count": null,
      "metadata": {
        "id": "pTI7ERFaTsch"
      },
      "outputs": [],
      "source": [
        "student1.createTable(\"studentMarks2\",tableDetails)"
      ]
    },
    {
      "cell_type": "code",
      "execution_count": null,
      "metadata": {
        "id": "AawEUrMfTsck"
      },
      "outputs": [],
      "source": [
        "valuestoInsert= (\"{0},{1},{2}\".format(student1.id,student1.RollNum,student1.Marks))"
      ]
    },
    {
      "cell_type": "code",
      "execution_count": null,
      "metadata": {
        "id": "rWwP1UCDTscr"
      },
      "outputs": [],
      "source": [
        "student1.insertIntoTable(\"studentMarks2\",valuestoInsert)"
      ]
    },
    {
      "cell_type": "code",
      "execution_count": null,
      "metadata": {
        "id": "D7tzsuoVTscw"
      },
      "outputs": [],
      "source": [
        "student1.selectFromTable(\"studentMarks2\")"
      ]
    },
    {
      "cell_type": "markdown",
      "metadata": {
        "id": "BwTtBmkSTsc8"
      },
      "source": [
        "### Overriding methods\n",
        "\n",
        "Inheritance allows to add new methods to a subclass but often is useful to change the behavior of a method defined in the superclass. To override a method just define it again."
      ]
    },
    {
      "cell_type": "code",
      "execution_count": null,
      "metadata": {
        "id": "XDKXbne-Tsc9"
      },
      "outputs": [],
      "source": [
        "class Student(Person):\n",
        "    def __init__(self, student_id, *args, **kwargs):\n",
        "        super(Student, self).__init__(*args, **kwargs)\n",
        "        self._student_id = student_id\n",
        "        \n",
        "    def __str__(self):\n",
        "        return super(Student, self).__str__() + \" And has ID: %d\" % self._student_id\n",
        "        \n",
        "charlie = Student(1, 'Charlie', 'Brown', 2006)\n",
        "print(charlie)\n"
      ]
    },
    {
      "cell_type": "markdown",
      "metadata": {
        "id": "ukKWbpuVTsdC"
      },
      "source": [
        "We defined `__str__` again overriding the one wrote in Person, but we wanted to extend it, so we used super to achieve our goal."
      ]
    },
    {
      "cell_type": "code",
      "execution_count": null,
      "metadata": {
        "id": "-rqEYMJ0TsdF"
      },
      "outputs": [],
      "source": [
        "#another class inheriting the DataBaseOperation class with overRiding the insert function\n",
        "class StudentDetails(DataBaseOperations): # inheriting the DatabaseOperation class\n",
        "        \n",
        "        def __init__ (self, FirstName,LastName, RollNumber, Class):\n",
        "        \n",
        "            self.FirstName= FirstName\n",
        "            self.LastName = LastName\n",
        "            self.RollNumber = RollNumber\n",
        "            self.Class = Class\n",
        "            self.databasename = \"StudentDetails\"\n",
        "            \n",
        "        #overriding the insert method of parent class to insert string values in table\n",
        "        def insertIntoTable(self,tablename):\n",
        "            try:\n",
        "                \n",
        "                firstName = '\"' + self.FirstName + '\"' #putting string value under quotes to insert into database\n",
        "                LastName = '\"' + self.LastName + '\"'\n",
        "                Class = '\"' + self.Class + '\"'\n",
        "                \n",
        "                listOfvaluesToInsert= (\"{0},{1},{2},{3}\".format(firstName,LastName,self.RollNumber,Class))\n",
        "                conn = self.createDatabase()\n",
        "                conn.execute('INSERT INTO {tablename}  values ({values})'.format(tablename = tablename,values=(listOfvaluesToInsert)))\n",
        "                conn.commit()\n",
        "                print(\"Values Inserted Successfully!!!\")\n",
        "                self.closeDbConnection(conn)\n",
        "                print(\"Connection to database closed!!\")\n",
        "            except Exception as e:\n",
        "                conn.rollback()\n",
        "                self.closeDbConnection(conn)\n",
        "                print(\"Connection to database closed!!\")\n",
        "                print(\"Error occured: \" + str(e))\n",
        "    "
      ]
    },
    {
      "cell_type": "code",
      "execution_count": null,
      "metadata": {
        "id": "Wp-gLpdDTsdO"
      },
      "outputs": [],
      "source": [
        "student1 = StudentDetails(\"Raj\",\"Kumar\",34,\"Ten\")"
      ]
    },
    {
      "cell_type": "code",
      "execution_count": null,
      "metadata": {
        "id": "izPXuVpwTsdT"
      },
      "outputs": [],
      "source": [
        "student1.createDatabase()"
      ]
    },
    {
      "cell_type": "code",
      "execution_count": null,
      "metadata": {
        "id": "DMiPB2HgTsda"
      },
      "outputs": [],
      "source": [
        "tableDetails = {\"studentFirstName\" : \"Varchar\", \"studentLastName\" : \"Varchar\", \"studentRollNumber\" : \"INTEGER\",\"StudentClass\": \"Varchar\"}"
      ]
    },
    {
      "cell_type": "code",
      "execution_count": null,
      "metadata": {
        "id": "R5UIF5NQTsdh"
      },
      "outputs": [],
      "source": [
        "student1.createTable(\"studentDetails\",tableDetails)"
      ]
    },
    {
      "cell_type": "code",
      "execution_count": null,
      "metadata": {
        "id": "aN7fhtsMTsdn"
      },
      "outputs": [],
      "source": [
        "student1.insertIntoTable(\"studentDetails\")"
      ]
    },
    {
      "cell_type": "code",
      "execution_count": null,
      "metadata": {
        "id": "d7hkP5CpTsdy"
      },
      "outputs": [],
      "source": [
        "student1.selectFromTable(\"studentDetails\")"
      ]
    },
    {
      "cell_type": "markdown",
      "metadata": {
        "id": "AOkEbnsyTsd4"
      },
      "source": [
        "## 13.4 Encapsulation\n",
        "\n",
        "Encapsulation is an another powerful way to extend a class which consists on wrapping an object with a second one.\n",
        "\n",
        "Encapsulations is applications of a software or a program will not reveal the internal implementation details to the outer world.\n",
        "The only constraint on the programmer is to maintain the public interface for the component, as other programmers will\n",
        "be writing code that depends on that developed interface. \n",
        "Encapsulation allows the implementation details of a program to\n",
        "be change without affecting other parts of the program, thereby making it easier to fix bugs or add new functionality with some local changes to an application.\n",
        "\n",
        "\n",
        "There are two main reasons to use encapsulation:\n",
        "\n",
        "* Composition\n",
        "* Dynamic Extension"
      ]
    },
    {
      "cell_type": "markdown",
      "metadata": {
        "id": "01y2tFmoTsd5"
      },
      "source": [
        "### Composition\n",
        "\n",
        "The abstraction process relies on creating a simplified model that remove useless details from a concept. In order to be simplified, a model should be described in terms of other simpler concepts.\n",
        "For example, we can say that a car is composed by:\n",
        "* Tyres\n",
        "* Engine\n",
        "* Body\n",
        "\n",
        "And break down each one of these elements in simpler parts until we reach primitive data."
      ]
    },
    {
      "cell_type": "code",
      "execution_count": null,
      "metadata": {
        "id": "3E2b9BxoTsd7"
      },
      "outputs": [],
      "source": [
        "class Tyres:\n",
        "    def __init__(self, branch, belted_bias, opt_pressure):\n",
        "        self.branch = branch\n",
        "        self.belted_bias = belted_bias\n",
        "        self.opt_pressure = opt_pressure\n",
        "        \n",
        "    def __str__(self):\n",
        "        return (\"Tyres: \\n \\tBranch: \" + self.branch +\n",
        "               \"\\n \\tBelted-bias: \" + str(self.belted_bias) + \n",
        "               \"\\n \\tOptimal pressure: \" + str(self.opt_pressure))\n",
        "        \n",
        "class Engine:\n",
        "    def __init__(self, fuel_type, noise_level):\n",
        "        self.fuel_type = fuel_type\n",
        "        self.noise_level = noise_level\n",
        "        \n",
        "    def __str__(self):\n",
        "        return (\"Engine: \\n \\tFuel type: \" + self.fuel_type +\n",
        "                \"\\n \\tNoise level:\" + str(self.noise_level))\n",
        "        \n",
        "class Body:\n",
        "    def __init__(self, size):\n",
        "        self.size = size\n",
        "        \n",
        "    def __str__(self):\n",
        "        return \"Body:\\n \\tSize: \" + self.size\n",
        "        \n",
        "class Car:\n",
        "    def __init__(self, tyres, engine, body):\n",
        "        self.tyres = tyres\n",
        "        self.engine = engine\n",
        "        self.body = body\n",
        "        \n",
        "    def __str__(self):\n",
        "        return str(self.tyres) + \"\\n\" + str(self.engine) + \"\\n\" + str(self.body)\n",
        "\n",
        "        \n",
        "t = Tyres('Pirelli', True, 2.0)\n",
        "e = Engine('Diesel', 3)\n",
        "b = Body('Medium')\n",
        "c = Car(t, e, b)\n",
        "print(c)"
      ]
    },
    {
      "cell_type": "markdown",
      "metadata": {
        "id": "NozgJ0QQTseA"
      },
      "source": [
        "### Dynamic Extension\n",
        "\n",
        "Sometimes it's necessary to model a concept that may be a subclass of another one, but it isn't possible to know which class should be its superclass until runtime."
      ]
    },
    {
      "cell_type": "markdown",
      "metadata": {
        "id": "XO_lGHeOTseB"
      },
      "source": [
        "### Example"
      ]
    },
    {
      "cell_type": "markdown",
      "metadata": {
        "id": "wxJ1ct7wTseF"
      },
      "source": [
        "Suppose we want to model a simple dog school that trains instructors too. It will be nice to re-use Person and Student but students can be dogs or peoples. So we can remodel it this way:"
      ]
    },
    {
      "cell_type": "code",
      "execution_count": null,
      "metadata": {
        "id": "4PM2FUa6TseJ"
      },
      "outputs": [],
      "source": [
        "class Dog:\n",
        "    def __init__(self, name, year_of_birth, breed):\n",
        "        self._name = name\n",
        "        self._year_of_birth = year_of_birth\n",
        "        self._breed = breed\n",
        "\n",
        "    def __str__(self):\n",
        "        return \"%s is a %s born in %d.\" % (self._name, self._breed, self._year_of_birth)\n",
        "\n",
        "kudrjavka = Dog(\"Kudrjavka\", 1954, \"Laika\")\n",
        "print(kudrjavka)"
      ]
    },
    {
      "cell_type": "code",
      "execution_count": null,
      "metadata": {
        "id": "hI1D-vWITseS"
      },
      "outputs": [],
      "source": []
    },
    {
      "cell_type": "code",
      "execution_count": null,
      "metadata": {
        "id": "ZS6-9_eLTseV"
      },
      "outputs": [],
      "source": [
        "class Student:\n",
        "    def __init__(self, anagraphic, student_id):\n",
        "        self._anagraphic = anagraphic\n",
        "        self._student_id = student_id\n",
        "    def __str__(self):\n",
        "        return str(self._anagraphic) + \" Student ID: %d\" % self._student_id\n",
        "\n",
        "\n",
        "alec_student = Student(\"dsfs\",1)\n",
        "kudrjavka_student = Student(kudrjavka, 2)\n",
        "\n",
        "print(alec_student)\n",
        "print(kudrjavka_student)\n"
      ]
    },
    {
      "cell_type": "code",
      "execution_count": null,
      "metadata": {
        "id": "twrmwi76TseZ"
      },
      "outputs": [],
      "source": [
        "# Lets look at another example of encapsulation\n",
        "class BonusDistribution:\n",
        "    \n",
        "    def __init__ (self,employeeId, employeeRating):\n",
        "    \n",
        "        self.empId = employeeId\n",
        "        self.empRating = employeeRating\n",
        "        self.__bonusforRatingA = \"70%\"  #making value private\n",
        "        self.__bonusforRatingB = \"60%\"  #making value private\n",
        "        self.__bonusforRatingC = \"50%\"  #making value private\n",
        "        self.__bonusforRatingD = \"30%\"  #making value private\n",
        "        self.__bonusforRatingForRest = \"No Bonus\" #making value private\n",
        "        \n",
        "        \n",
        "    def bonusCalculator(self):\n",
        "        \n",
        "        if self.empRating == 'A':\n",
        "            bonus = self.__bonusforRatingA\n",
        "            msg = \"Bonus for this employee is :\"+ bonus\n",
        "            return msg\n",
        "        elif self.empRating == 'B':\n",
        "            bonus = self.__bonusforRatingB\n",
        "            msg = \"Bonus for this employee is :\"+ bonus\n",
        "            return msg\n",
        "        elif self.empRating == 'C':\n",
        "            bonus = self.__bonusforRatingC\n",
        "            msg = \"Bonus for this employee is :\"+ bonus\n",
        "            return msg\n",
        "        elif self.empRating == 'D':\n",
        "            bonus = self.__bonusforRatingD\n",
        "            msg = \"Bonus for this employee is :\"+ bonus\n",
        "            return msg\n",
        "        else:\n",
        "            bonus = self.__bonusforRatingForRest\n",
        "            msg = \"Bonus for this employee is :\"+ bonus\n",
        "            return msg"
      ]
    },
    {
      "cell_type": "code",
      "execution_count": null,
      "metadata": {
        "id": "RvAzDdD2Tsed"
      },
      "outputs": [],
      "source": [
        "emp1 = BonusDistribution(1232,'B')\n",
        "emp2 = BonusDistribution(1342,'A')\n",
        "emp3 = BonusDistribution(1031,'E')"
      ]
    },
    {
      "cell_type": "code",
      "execution_count": null,
      "metadata": {
        "id": "J5zrFW-QTseg"
      },
      "outputs": [],
      "source": [
        "emp2.bonusCalculator()"
      ]
    },
    {
      "cell_type": "code",
      "execution_count": null,
      "metadata": {
        "id": "JN5DpCVSTsel"
      },
      "outputs": [],
      "source": [
        "emp1.bonusCalculator()"
      ]
    },
    {
      "cell_type": "code",
      "execution_count": null,
      "metadata": {
        "id": "TYMyvuQHTseq"
      },
      "outputs": [],
      "source": [
        "emp3.bonusCalculator()"
      ]
    },
    {
      "cell_type": "markdown",
      "metadata": {
        "id": "sveUQtYBTsex"
      },
      "source": [
        "Let's try to change the private value of the class:"
      ]
    },
    {
      "cell_type": "code",
      "execution_count": null,
      "metadata": {
        "id": "fH6m6A4KTsey"
      },
      "outputs": [],
      "source": [
        "emp1._bonusforRatingB = \"90%\""
      ]
    },
    {
      "cell_type": "code",
      "execution_count": null,
      "metadata": {
        "id": "Gu2Wq5CwTse4"
      },
      "outputs": [],
      "source": [
        "emp1.bonusCalculator()"
      ]
    },
    {
      "cell_type": "markdown",
      "metadata": {
        "id": "H_1WASg8Tse8"
      },
      "source": [
        "The private attribute is not changed.\n",
        "\n",
        "To change the private attribute we need to define a function inside the class. Let's see how."
      ]
    },
    {
      "cell_type": "code",
      "execution_count": null,
      "metadata": {
        "id": "GSNz_3DfTse9"
      },
      "outputs": [],
      "source": [
        "class BonusDistribution:\n",
        "    \n",
        "    def __init__ (self,employeeId, employeeRating):\n",
        "    \n",
        "        self.empId = employeeId\n",
        "        self.empRating = employeeRating\n",
        "        self.__bonusforRatingA = \"70%\"  #making value private\n",
        "        self.__bonusforRatingB = \"60%\"  #making value private\n",
        "        self.__bonusforRatingC = \"50%\"  #making value private\n",
        "        self.__bonusforRatingD = \"30%\"  #making value private\n",
        "        self.__bonusforRatingForRest = \"No Bonus\" #making value private\n",
        "        \n",
        "        \n",
        "    def bonusCalculator(self):\n",
        "        \n",
        "        if self.empRating == 'A':\n",
        "            bonus = self.__bonusforRatingA\n",
        "            msg = \"Bonus for this employee is :\"+ bonus\n",
        "            return msg\n",
        "        elif self.empRating == 'B':\n",
        "            bonus = self.__bonusforRatingB\n",
        "            msg = \"Bonus for this employee is :\"+ bonus\n",
        "            return msg\n",
        "        elif self.empRating == 'C':\n",
        "            bonus = self.__bonusforRatingC\n",
        "            msg = \"Bonus for this employee is :\"+ bonus\n",
        "            return msg\n",
        "        elif self.empRating == 'D':\n",
        "            bonus = self.__bonusforRatingD\n",
        "            msg = \"Bonus for this employee is :\"+ bonus\n",
        "            return msg\n",
        "        else:\n",
        "            bonus = self.__bonusforRatingForRest\n",
        "            msg = \"Bonus for this employee is :\"+ bonus\n",
        "            return msg       \n",
        "        \n",
        "    def changeBonusForRatingForRest(self,value):\n",
        "        \n",
        "        self.__bonusforRatingForRest = value"
      ]
    },
    {
      "cell_type": "code",
      "execution_count": null,
      "metadata": {
        "id": "ab-MhG-CTsfB"
      },
      "outputs": [],
      "source": [
        "emp3 = BonusDistribution(1031,'E')"
      ]
    },
    {
      "cell_type": "code",
      "execution_count": null,
      "metadata": {
        "id": "jRHpxc4kTsfE"
      },
      "outputs": [],
      "source": [
        "emp3.bonusCalculator()"
      ]
    },
    {
      "cell_type": "code",
      "execution_count": null,
      "metadata": {
        "id": "Dih9oHv3TsfH"
      },
      "outputs": [],
      "source": [
        "emp3.changeBonusForRatingForRest(\"20%\")"
      ]
    },
    {
      "cell_type": "code",
      "execution_count": null,
      "metadata": {
        "id": "4QDEY5bSTsfN"
      },
      "outputs": [],
      "source": [
        "emp3.bonusCalculator()"
      ]
    },
    {
      "cell_type": "markdown",
      "metadata": {
        "id": "Jz63161-TsfT"
      },
      "source": [
        "We can see that the private attribute has now been changed and anyone can change that attribute now. This is bad way of writing a method which can change an private attribute. Let's make the function also private so it doesnot showup for everyone."
      ]
    },
    {
      "cell_type": "code",
      "execution_count": null,
      "metadata": {
        "id": "UH18_buQTsfT"
      },
      "outputs": [],
      "source": [
        "class BonusDistribution:\n",
        "    \n",
        "    def __init__ (self,employeeId, employeeRating):\n",
        "    \n",
        "        self.empId = employeeId\n",
        "        self.empRating = employeeRating\n",
        "        self.__bonusforRatingA = \"70%\"  #making value private\n",
        "        self.__bonusforRatingB = \"60%\"  #making value private\n",
        "        self.__bonusforRatingC = \"50%\"  #making value private\n",
        "        self.__bonusforRatingD = \"30%\"  #making value private\n",
        "        self.__bonusforRatingForRest = \"No Bonus\" #making value private\n",
        "        \n",
        "        \n",
        "    def bonusCalculator(self):\n",
        "        \n",
        "        if self.empRating == 'A':\n",
        "            bonus = self.__bonusforRatingA\n",
        "            msg = \"Bonus for this employee is :\"+ bonus\n",
        "            return msg\n",
        "        elif self.empRating == 'B':\n",
        "            bonus = self.__bonusforRatingB\n",
        "            msg = \"Bonus for this employee is :\"+ bonus\n",
        "            return msg\n",
        "        elif self.empRating == 'C':\n",
        "            bonus = self.__bonusforRatingC\n",
        "            msg = \"Bonus for this employee is :\"+ bonus\n",
        "            return msg\n",
        "        elif self.empRating == 'D':\n",
        "            bonus = self.__bonusforRatingD\n",
        "            msg = \"Bonus for this employee is :\"+ bonus\n",
        "            return msg\n",
        "        else:\n",
        "            bonus = self.__bonusforRatingForRest\n",
        "            msg = \"Bonus for this employee is :\"+ bonus\n",
        "            return msg       \n",
        "        \n",
        "    def __changeBonusForRatingForRest(self,value):\n",
        "        \n",
        "        self.__bonusforRatingForRest = value"
      ]
    },
    {
      "cell_type": "code",
      "execution_count": null,
      "metadata": {
        "id": "72TQvT6mTsfW"
      },
      "outputs": [],
      "source": [
        "emp3 = BonusDistribution(1031,'E')"
      ]
    },
    {
      "cell_type": "code",
      "execution_count": null,
      "metadata": {
        "id": "V_0CYyyKTsfa"
      },
      "outputs": [],
      "source": [
        "emp3.bonusCalculator()"
      ]
    },
    {
      "cell_type": "code",
      "execution_count": null,
      "metadata": {
        "id": "WElNInTzTsfj"
      },
      "outputs": [],
      "source": [
        "emp3"
      ]
    },
    {
      "cell_type": "code",
      "execution_count": null,
      "metadata": {
        "id": "5fSpg2n7Tsfm"
      },
      "outputs": [],
      "source": [
        "emp3.__changeBonusForRatingForRest(\"20%\")"
      ]
    },
    {
      "cell_type": "markdown",
      "metadata": {
        "id": "UmvZBuCQTsfp"
      },
      "source": [
        "You can see that that method cannot be accessed now. Also, the method doesnot show up in the class property:\n",
        "\n",
        "<img src=\"private_method.png\">\n",
        "\n",
        "\n",
        "If you know the name of the method, then you can still call the private member by using the class name as shown below:"
      ]
    },
    {
      "cell_type": "code",
      "execution_count": null,
      "metadata": {
        "id": "-rRphTK_Tsfp"
      },
      "outputs": [],
      "source": [
        "emp3._BonusDistribution__changeBonusForRatingForRest(\"20%\")"
      ]
    },
    {
      "cell_type": "code",
      "execution_count": null,
      "metadata": {
        "id": "RCEv5XPWTsfv"
      },
      "outputs": [],
      "source": [
        "emp3.bonusCalculator()"
      ]
    },
    {
      "cell_type": "markdown",
      "metadata": {
        "id": "az6yxOWqTsf2"
      },
      "source": [
        "### Operator Overloading"
      ]
    },
    {
      "cell_type": "code",
      "execution_count": null,
      "metadata": {
        "id": "i6_ko9wMTsf3"
      },
      "outputs": [],
      "source": [
        "class multiplyNum():\n",
        "    \n",
        "    def __init__(self,a):\n",
        "        self.a =a"
      ]
    },
    {
      "cell_type": "code",
      "execution_count": null,
      "metadata": {
        "id": "4QkPPhnnTsf7"
      },
      "outputs": [],
      "source": [
        "a1 = multiplyNum(2)\n",
        "a2 = multiplyNum(3)"
      ]
    },
    {
      "cell_type": "code",
      "execution_count": null,
      "metadata": {
        "id": "2XqwH7YRTsgD"
      },
      "outputs": [],
      "source": [
        "#let's try and multiply both the objects\n",
        "print(a1*a2)"
      ]
    },
    {
      "cell_type": "markdown",
      "metadata": {
        "id": "rFfMb8nUTsgG"
      },
      "source": [
        "We are getting an error because by default multiply supports only numerical values.\n",
        "\n",
        "We can change the function of multiply and this is what we call overloading. \n",
        "\n",
        "Python calls \"__mul__\" function to multiply numbers, let's overload it."
      ]
    },
    {
      "cell_type": "code",
      "execution_count": null,
      "metadata": {
        "id": "eu2QVeVFTsgG"
      },
      "outputs": [],
      "source": [
        "class multiplyNum():\n",
        "    \n",
        "    def __init__(self,a):\n",
        "        self.a =a\n",
        "    \n",
        "    def __mul__(self,other):\n",
        "        \n",
        "         return self.a*other.a"
      ]
    },
    {
      "cell_type": "code",
      "execution_count": null,
      "metadata": {
        "id": "0b-Zv73RTsgJ"
      },
      "outputs": [],
      "source": [
        "a1 = multiplyNum(2)\n",
        "a2 = multiplyNum(3)"
      ]
    },
    {
      "cell_type": "code",
      "execution_count": null,
      "metadata": {
        "id": "fNjiM7hoTsgO"
      },
      "outputs": [],
      "source": [
        "a1*a2"
      ]
    },
    {
      "cell_type": "markdown",
      "metadata": {
        "id": "3siywYJPTsgR"
      },
      "source": [
        "Great!! now we can multiply objects. We can also overide our __mul__ function and get it do return sum instead of multiplication."
      ]
    },
    {
      "cell_type": "code",
      "execution_count": null,
      "metadata": {
        "id": "KLe6ETgjTsgT"
      },
      "outputs": [],
      "source": [
        "class multiplyNum():\n",
        "    \n",
        "    def __init__(self,a):\n",
        "        self.a =a\n",
        "    \n",
        "    def __mul__(self,other):\n",
        "        \n",
        "         return self.a+other.a  #overloading multiply method and returning sum instead of multiplication"
      ]
    },
    {
      "cell_type": "code",
      "execution_count": null,
      "metadata": {
        "id": "doFNfLkxTsgZ"
      },
      "outputs": [],
      "source": [
        "a1 = multiplyNum(2)\n",
        "a2 = multiplyNum(3)"
      ]
    },
    {
      "cell_type": "code",
      "execution_count": null,
      "metadata": {
        "id": "V-BDo8rCTsgd"
      },
      "outputs": [],
      "source": [
        "a1*a2"
      ]
    },
    {
      "cell_type": "markdown",
      "metadata": {
        "id": "nWz-d9NBTsgh"
      },
      "source": [
        "### Overload string method "
      ]
    },
    {
      "cell_type": "code",
      "execution_count": null,
      "metadata": {
        "id": "ive4uIypTsgh"
      },
      "outputs": [],
      "source": [
        "class printInformation():\n",
        "    \n",
        "    def __init__(self,operator):\n",
        "        self.operator =operator\n",
        "    \n",
        "    def __str__(self):\n",
        "        return \"overloading the opearator :\" + self.operator "
      ]
    },
    {
      "cell_type": "code",
      "execution_count": null,
      "metadata": {
        "id": "9WPeSmQpTsgm"
      },
      "outputs": [],
      "source": [
        "print_ = printInformation('string')"
      ]
    },
    {
      "cell_type": "code",
      "execution_count": null,
      "metadata": {
        "id": "3ojIH4GOTsgp"
      },
      "outputs": [],
      "source": [
        "print(print_)"
      ]
    },
    {
      "cell_type": "markdown",
      "metadata": {
        "id": "TumLC9HvTsgr"
      },
      "source": [
        "## 13.5 Polymorphism and DuckTyping\n",
        "\n",
        "`Python` uses dynamic typing which is also called as duck typing. If an object implements a method you can use it, irrespective of the type. This is different from statically typed languages, where the type of a construct need to be explicitly declared. Polymorphism is the ability to use the same syntax for objects of different types:"
      ]
    },
    {
      "cell_type": "code",
      "execution_count": null,
      "metadata": {
        "id": "JDu-t374Tsgs"
      },
      "outputs": [],
      "source": [
        "def summer(a, b):\n",
        "    return a + b\n",
        "\n",
        "print(summer(1, 1))\n",
        "print(summer([\"a\", \"b\", \"c\"], [\"d\", \"e\"]))\n",
        "print(summer(\"abra\", \"cadabra\"))\n"
      ]
    },
    {
      "cell_type": "code",
      "execution_count": null,
      "metadata": {
        "id": "8TI_mRwkTsgv"
      },
      "outputs": [],
      "source": [
        "# Polymorphism example\n",
        "class Instagram:\n",
        "    \n",
        "    def share_stories(self):\n",
        "        print(\"share your stories on Instagram!!!\")\n",
        "    \n",
        "class Facebook:\n",
        "    \n",
        "    def share_stories(self):\n",
        "        print(\"share your stories on Facebook!!!\")\n",
        "\n",
        "def ShareStory(application):\n",
        "    application.share_stories()   "
      ]
    },
    {
      "cell_type": "code",
      "execution_count": null,
      "metadata": {
        "id": "v56ejiaNTsgx"
      },
      "outputs": [],
      "source": [
        "insta = Instagram()\n",
        "fb = Facebook()"
      ]
    },
    {
      "cell_type": "code",
      "execution_count": null,
      "metadata": {
        "id": "wIT_W_3pTsg0"
      },
      "outputs": [],
      "source": [
        "ShareStory(insta)"
      ]
    },
    {
      "cell_type": "code",
      "execution_count": null,
      "metadata": {
        "id": "1_dkXxjRTsg3"
      },
      "outputs": [],
      "source": [
        "ShareStory(fb)"
      ]
    },
    {
      "cell_type": "markdown",
      "metadata": {
        "id": "n_XgjbCmTsg7"
      },
      "source": [
        "## 13.6 How long does a class should be?\n",
        "\n",
        "There is an Object Oriented Programming (OOP) principle called Single Responsibility Principle (SRP) and it states: \"A class should have one single responsibility\" or \"A class should have only one reason to change\". \n",
        "\n",
        "If you come across a class which doesn't follow the SRP principle, you should spilt it. You will be grateful to SRP during your software maintenance. \n",
        "\n",
        "There is an excellent example from wikipedia which is nicely understood the concept of SRP:-\n",
        "    \n",
        "\"Martin defines a responsibility as a reason to change, and concludes that a class or module should have one, and only one, reason to be changed (e.g. rewritten). As an example, consider a module that compiles and prints a report. Imagine such a module can be changed for two reasons. First, the content of the report could change. Second, the format of the report could change. These two things change for very different causes; one substantive, and one cosmetic. The single-responsibility principle says that these two aspects of the problem are really two separate responsibilities, and should, therefore, be in separate classes or modules. It would be a bad design to couple two things that change for different reasons at different times.\n",
        "\n",
        "The reason it is important to keep a class focused on a single concern is that it makes the class more robust. Continuing with the foregoing example, if there is a change to the report compilation process, there is a greater danger that the printing code will break if it is part of the same class.\" Source- Wikipedia\n",
        "\n",
        ">**Refer:-**  https://en.wikipedia.org/wiki/Single-responsibility_principle#:~:text=The%20single%2Dresponsibility%20principle%20(SRP,the%20class%2C%20module%20or%20function."
      ]
    },
    {
      "cell_type": "markdown",
      "metadata": {
        "id": "z4j_Ux3WTsg8"
      },
      "source": [
        "## 13.7 shallow and deep copy\n",
        "\n",
        "Till now we have use = operator to create a copy of an object,like a=b. First we have thought that it creates a new object,but rather it creates a new variable that take the reference of the same original object."
      ]
    },
    {
      "cell_type": "code",
      "execution_count": null,
      "metadata": {
        "id": "oLjIf7TjTshB"
      },
      "outputs": [],
      "source": [
        "#Lets look for the same = assignment operator reference id\n",
        "\n",
        "a=10\n",
        "b = a\n",
        "\n",
        "print(\"Id of a:- \" , id(a))\n",
        "print(\"Id of b:- \", id(b))"
      ]
    },
    {
      "cell_type": "code",
      "execution_count": null,
      "metadata": {
        "id": "jnuwL86dTshD"
      },
      "outputs": [],
      "source": [
        "# Here the id is same for both a & b, hence if we want to change the value it will reflect in both"
      ]
    },
    {
      "cell_type": "code",
      "execution_count": null,
      "metadata": {
        "id": "iOBrTfTyTshL"
      },
      "outputs": [],
      "source": [
        "a = 20"
      ]
    },
    {
      "cell_type": "code",
      "execution_count": null,
      "metadata": {
        "id": "VO1foPnXTshO"
      },
      "outputs": [],
      "source": [
        "print(a,b)"
      ]
    },
    {
      "cell_type": "markdown",
      "metadata": {
        "id": "Zfv_zNV5TshS"
      },
      "source": [
        "But many times we want to change the newly created values only, we dont want to modify the original value so for that we can achieve this with creating copies in two ways:-\n",
        "    \n",
        "    1) Deep Copy\n",
        "    \n",
        "    2) Shallow Copy"
      ]
    },
    {
      "cell_type": "markdown",
      "metadata": {
        "id": "vJoxDhmoTshS"
      },
      "source": [
        "### Shallow copy\n",
        "\n",
        "A `shallow copy` creates a new object which stores the reference of the original elements.\n",
        "\n",
        "So, a `shallow copy` doesn't copy actual object, instead it just copies the reference of nested objects. Lets look with example:-"
      ]
    },
    {
      "cell_type": "code",
      "execution_count": null,
      "metadata": {
        "id": "QjKzCncrTshT"
      },
      "outputs": [],
      "source": [
        "a = [\"ineuron\",\"datascience\"]\n",
        "# Shallow copy can be created using copy module\n",
        "import copy\n",
        "a_new = copy.copy(a)\n",
        "\n",
        "print(a)\n",
        "print(a_new)"
      ]
    },
    {
      "cell_type": "code",
      "execution_count": null,
      "metadata": {
        "id": "bHLTZb1oTshZ"
      },
      "outputs": [],
      "source": [
        "print(id(a))\n",
        "print(id(a_new)) # Id will be different"
      ]
    },
    {
      "cell_type": "code",
      "execution_count": null,
      "metadata": {
        "id": "wiYiOgvpTshd"
      },
      "outputs": [],
      "source": [
        "# Lets reassign the values\n",
        "a.append(\"AI\")\n",
        "\n",
        "print(a)\n",
        "print(a_new)"
      ]
    },
    {
      "cell_type": "code",
      "execution_count": null,
      "metadata": {
        "id": "Ayusi6xOTshf"
      },
      "outputs": [],
      "source": [
        "# Try to update the original nested value\n",
        "import copy\n",
        "\n",
        "a = [[1, 2, 3], [4, 5, 6],[5,5,5]]\n",
        "new_a = copy.copy(a)\n",
        "\n",
        "a[1][1] = 'Update_value'\n",
        "\n",
        "print(a)\n",
        "print(new_a)"
      ]
    },
    {
      "cell_type": "markdown",
      "metadata": {
        "id": "cwwm4iqkTshh"
      },
      "source": [
        "### Deep copy\n",
        "\n",
        "The `deep copy` will create independent copy of original object rather than just copying reference and all the other nested objects as well.\n",
        "\n",
        "We can create deep copy using `deepcopy()` function present in copy module. "
      ]
    },
    {
      "cell_type": "code",
      "execution_count": null,
      "metadata": {
        "id": "rWmGtHhOTshi"
      },
      "outputs": [],
      "source": [
        "import copy\n",
        "\n",
        "a = [1,2,3]\n",
        "a_new = copy.deepcopy(a)\n",
        "\n",
        "print(a)\n",
        "print(a_new)"
      ]
    },
    {
      "cell_type": "code",
      "execution_count": null,
      "metadata": {
        "id": "5Astt1NRTshn"
      },
      "outputs": [],
      "source": [
        "print(id(a))\n",
        "print(id(a_new))"
      ]
    },
    {
      "cell_type": "code",
      "execution_count": null,
      "metadata": {
        "id": "iEtCYrg2Tshs"
      },
      "outputs": [],
      "source": [
        "a[1]=\"change\"\n",
        "print(a)\n",
        "print(a_new)"
      ]
    },
    {
      "cell_type": "code",
      "execution_count": null,
      "metadata": {
        "id": "RKrEH21jTshv"
      },
      "outputs": [],
      "source": [
        "a = [[1,2,3],[4,5,6],[7,8,9]]\n",
        "\n",
        "a_new = copy.deepcopy(a)\n",
        "\n",
        "print(a)\n",
        "print(a_new)"
      ]
    },
    {
      "cell_type": "code",
      "execution_count": null,
      "metadata": {
        "id": "5L2cZ0csTshy"
      },
      "outputs": [],
      "source": [
        "a[0][0] = \"update\"\n",
        "\n",
        "print(a)\n",
        "print(a_new) # Not changed this value"
      ]
    },
    {
      "cell_type": "code",
      "execution_count": null,
      "metadata": {
        "id": "DcrZliIVTsh0"
      },
      "outputs": [],
      "source": [
        "# Few more oops example\n",
        "\n",
        "# Single inheritence\n",
        "class Ineuron:\n",
        "    company_website = 'https://ineuron.ai/'\n",
        "    name = 'iNeuron'\n",
        " \n",
        "    def contact_details(self):\n",
        "        print('Contact us at ', self.company_website)\n",
        " \n",
        " \n",
        "class Datascience(Ineuron):\n",
        "    def __init__(self):\n",
        "        self.year_of_establishment= 2018\n",
        " \n",
        "    def est_details(self):\n",
        "        print('{0} Company was established in {1}'\n",
        "              .format(self.name,self.year_of_establishment))\n",
        " \n",
        " \n",
        "ds = Datascience()\n",
        "ds.est_details()\n",
        " \n",
        " \n",
        "# Multiple inheritence\n",
        "class OS:\n",
        "    multi_task = True\n",
        "    os_name = 'Windows OS'\n",
        " \n",
        " \n",
        "class windows(OS, Ineuron):\n",
        "    def __init__(self):\n",
        "        if self.multi_task is True:\n",
        "            print('multi_task')\n",
        "        print('Name: {}'.format(self.name))\n",
        " \n",
        " \n",
        "windows = windows()\n",
        " \n",
        " \n",
        "# Multilevel inheritence\n",
        "class iNeuron:\n",
        "    num_of_courses = 12\n",
        " \n",
        " \n",
        "class Datascience(iNeuron):\n",
        "    course_type = 'Data-Science'\n",
        " \n",
        " \n",
        "class AI(Datascience):\n",
        "    def __init__(self):\n",
        "        self.company = \"iNeuron\"\n",
        "        print('The company {0} offers total {1} different types of courses. Most trending course is {2}'.format(self.company,self.num_of_courses,self.course_type))\n",
        " \n",
        " \n",
        "AI = AI()"
      ]
    },
    {
      "cell_type": "code",
      "metadata": {
        "id": "UiVGtK8nTsh4"
      },
      "source": [
        "OOP is a programming paradigm (way of developing programs)\n",
        "\n",
        "\n",
        "\n",
        "\n",
        "OOP allows us to combine the data and functionality and wrap it inside something which is called an object\n",
        "\n"
      ],
      "execution_count": null,
      "outputs": []
    },
    {
      "cell_type": "markdown",
      "metadata": {
        "id": "cGEUDb3EzQhi"
      },
      "source": [
        "In programming any real world entity which has specific attributes or features can be represented as an Object. \n",
        "\n",
        "\n",
        "Along with attributes each object can take some actions also which are called it’s “behaviors”\n",
        "\n",
        "\n",
        "In programming world, these attributes are called data members and behaviours/actions  are called methods\n"
      ]
    },
    {
      "cell_type": "markdown",
      "metadata": {
        "id": "N_hIyellzQhk"
      },
      "source": [
        "Yes , we humans are objects because:\n",
        "\n",
        "\n",
        "We have  attributes as  name, height, age etc. \n",
        "\n",
        "\n",
        "We also can show behaviors like walking, talking, running, eating  etc\n"
      ]
    },
    {
      "cell_type": "code",
      "execution_count": null,
      "metadata": {
        "id": "SUlqy6p4zQhl"
      },
      "outputs": [],
      "source": [
        "Now to create/represent  objects  we first have to write all their attributes and behaviours under a single group .\n",
        "\n",
        "\n",
        "\n",
        "This group is called a class \n",
        "\n"
      ]
    },
    {
      "cell_type": "markdown",
      "metadata": {
        "id": "L2ZTzZRIzQhm"
      },
      "source": [
        "### Class"
      ]
    },
    {
      "cell_type": "code",
      "execution_count": null,
      "metadata": {
        "id": "o95OaZnczQhm"
      },
      "outputs": [],
      "source": [
        "A class is used to specify the basic structure of an object and it combines attributes and methods to be used  by an object\n",
        "\n",
        "\n",
        "Thus we can say that a class represents the data type and object represents a kind of variable of that data type\n",
        "\n",
        "\n",
        "For  Example:- Each person collectively come under a class called Human Being. So we belong to the class Human Being.\n"
      ]
    },
    {
      "cell_type": "markdown",
      "metadata": {
        "id": "8yTP3N8zzQhn"
      },
      "source": [
        "![image.png](attachment:image.png)"
      ]
    },
    {
      "cell_type": "markdown",
      "metadata": {
        "id": "FqG7Or3HzQhn"
      },
      "source": [
        "![image.png](attachment:image.png)"
      ]
    },
    {
      "cell_type": "code",
      "execution_count": null,
      "metadata": {
        "id": "53sUmo7fzQhn"
      },
      "outputs": [],
      "source": [
        "class Emp:\n",
        "    pass"
      ]
    },
    {
      "cell_type": "code",
      "execution_count": null,
      "metadata": {
        "id": "MrKxO5sUzQho"
      },
      "outputs": [],
      "source": [
        "e=Emp()"
      ]
    },
    {
      "cell_type": "code",
      "execution_count": null,
      "metadata": {
        "id": "41_npQWmzQho"
      },
      "outputs": [],
      "source": [
        "print(type(e))"
      ]
    },
    {
      "cell_type": "code",
      "execution_count": null,
      "metadata": {
        "id": "WHySxsCJzQhp"
      },
      "outputs": [],
      "source": [
        "print(e) "
      ]
    },
    {
      "cell_type": "code",
      "execution_count": null,
      "metadata": {
        "id": "lmO7yNJgzQhp"
      },
      "outputs": [],
      "source": [
        "id(e)"
      ]
    },
    {
      "cell_type": "code",
      "execution_count": null,
      "metadata": {
        "id": "NWZXm56BzQhp"
      },
      "outputs": [],
      "source": [
        "1.The first line shows the class name which is Emp.\n",
        "\n",
        "2. The second line shows the address of the object to which the reference e is pointing\n",
        "\n",
        "3. The name __main__ is the name of the module which Python automatically allots to our file"
      ]
    },
    {
      "cell_type": "code",
      "execution_count": null,
      "metadata": {
        "id": "jb6jhd19zQhq"
      },
      "outputs": [],
      "source": [
        "In Python , a class can have 3 types of variables:\n",
        "\n",
        "Instance Variables: Created per instance basis\n",
        "\n",
        "Local Variables: Created locally inside a method and destroyed when the method execution is over\n",
        "\n",
        "Class Variables: Created inside a class and shared by every object of that class. Sometimes also called as static variables\n"
      ]
    },
    {
      "cell_type": "code",
      "execution_count": null,
      "metadata": {
        "id": "X0kPaTC6zQhq"
      },
      "outputs": [],
      "source": [
        "class Emp:\n",
        "    def __init__(self):\n",
        "        print(\"Object created. . .\")\n",
        "        print(id(self))\n",
        "\n",
        "e=Emp()\n",
        "print(id(e))\n"
      ]
    },
    {
      "cell_type": "code",
      "execution_count": null,
      "metadata": {
        "id": "i_Khn38OzQhq"
      },
      "outputs": [],
      "source": [
        "In Python , whenever we create an object , Python calls the method __init()__\n",
        "\n",
        "But while calling this method , Python also passes the address of the object , for which it is calling __init__() , as the first argument.\n",
        "\n",
        "Thus , when we define the __init__() method we must provide it atleast one formal argument which will receive the object’s address .\n",
        "\n",
        "This argument is named as self\n"
      ]
    },
    {
      "cell_type": "code",
      "execution_count": null,
      "metadata": {
        "id": "2n3MvM4uzQhr"
      },
      "outputs": [],
      "source": [
        "class Emp:\n",
        "    def __init__(self):\n",
        "        print(id(self))\n",
        "        self.age=25\n",
        "        self.name=\"Rahul\"\n",
        "        self.salary=30000.0\n",
        "\n",
        "e=Emp()\n",
        "print(id(e))\n",
        "print(\"Age:\",e.age,\"Name:\",e.name,\"Salary:\",e.salary)\n",
        "\n"
      ]
    },
    {
      "cell_type": "code",
      "execution_count": null,
      "metadata": {
        "id": "r73diWsdzQhr"
      },
      "outputs": [],
      "source": [
        "class Emp:\n",
        "    def __init__(self):\n",
        "        self.age=25\n",
        "        self.name=\"Rahul\"\n",
        "        self.salary=30000\n",
        "    def show(self):\n",
        "        print(self.age,self.name,self.salary)\n"
      ]
    },
    {
      "cell_type": "code",
      "execution_count": null,
      "metadata": {
        "id": "WRlO5dK1zQhs"
      },
      "outputs": [],
      "source": [
        "e=Emp()"
      ]
    },
    {
      "cell_type": "code",
      "execution_count": null,
      "metadata": {
        "id": "mYYoLCKkzQhs"
      },
      "outputs": [],
      "source": [
        "f=Emp()"
      ]
    },
    {
      "cell_type": "code",
      "execution_count": null,
      "metadata": {
        "id": "gIi9JzobzQht"
      },
      "outputs": [],
      "source": [
        "e.show()"
      ]
    },
    {
      "cell_type": "code",
      "execution_count": null,
      "metadata": {
        "id": "Y0sUWPUjzQht"
      },
      "outputs": [],
      "source": [
        "f.show()"
      ]
    },
    {
      "cell_type": "code",
      "execution_count": null,
      "metadata": {
        "id": "nTwEuRsozQht"
      },
      "outputs": [],
      "source": [
        "print(\"Age:\",e.age,\"Name:\",e.name)"
      ]
    },
    {
      "cell_type": "code",
      "execution_count": null,
      "metadata": {
        "id": "miK5cSH9zQhu"
      },
      "outputs": [],
      "source": [
        "print(\"Age:\",self.age,\"Name:\",self.name)"
      ]
    },
    {
      "cell_type": "code",
      "execution_count": null,
      "metadata": {
        "id": "BnHGafpMzQhu"
      },
      "outputs": [],
      "source": [
        "\n",
        "e.salary=30000.0\n",
        "\n"
      ]
    },
    {
      "cell_type": "code",
      "execution_count": null,
      "metadata": {
        "id": "mAtmjVkRzQhu"
      },
      "outputs": [],
      "source": [
        "print(\"Age:\",e.age,\"Name:\",e.name,e.salary)"
      ]
    },
    {
      "cell_type": "code",
      "execution_count": null,
      "metadata": {
        "id": "8ghE8C5YzQhv"
      },
      "outputs": [],
      "source": [
        "class Emp:\n",
        "\tdef __init__(self,age,name,salary):\n",
        "\t\tself.age=age\n",
        "\t\tself.name=name\n",
        "\t\tself.salary=salary"
      ]
    },
    {
      "cell_type": "code",
      "execution_count": null,
      "metadata": {
        "id": "PhoXmqIrzQhv"
      },
      "outputs": [],
      "source": [
        "e=Emp(25,\"Rahul\",30000.0)"
      ]
    },
    {
      "cell_type": "code",
      "execution_count": null,
      "metadata": {
        "id": "qpj4nLePzQhv"
      },
      "outputs": [],
      "source": [
        "print(\"Age:\",e.age,\"Name:\",e.name,\"Salary:\",e.salary)"
      ]
    },
    {
      "cell_type": "code",
      "execution_count": null,
      "metadata": {
        "id": "4PrfEJljzQhv"
      },
      "outputs": [],
      "source": [
        "f=Emp(31,\"Varun\",45000.0)"
      ]
    },
    {
      "cell_type": "code",
      "execution_count": null,
      "metadata": {
        "id": "FHX5YaiyzQhw"
      },
      "outputs": [],
      "source": [
        "print(\"Age:\",f.age,\"Name:\",f.name,\"Salary:\",f.salary)\n"
      ]
    },
    {
      "cell_type": "code",
      "execution_count": null,
      "metadata": {
        "id": "1zXYN8s5zQhw"
      },
      "outputs": [],
      "source": [
        "class Emp:\n",
        "\tdef __init__(self,x,y,z):\n",
        "\t\tself.age=x\n",
        "\t\tself.name=y\n",
        "\t\tself.salary=z\n",
        "\n",
        "e=Emp(25,\"Rahul\",30000.0)\n",
        "print(\"Age:\",e.age,\"Name:\",e.name,\"Salary:\",e.salary)\n",
        "f=Emp(31,\"Varun\",45000.0)\n",
        "print(\"Age:\",f.age,\"Name:\",f.name,\"Salary:\",f.salary)\n"
      ]
    },
    {
      "cell_type": "code",
      "execution_count": null,
      "metadata": {
        "id": "ShLNAP8MzQhw"
      },
      "outputs": [],
      "source": [
        "class Emp:\n",
        "    def __init__(self,name):\n",
        "        self.name=name\n",
        "    def __init__(self,name,age):\n",
        "        self.name=name\n",
        "        self.age=age\n",
        "    def __init__(self,name,age,sal):\n",
        "        self.name=name\n",
        "        self.age=age\n",
        "        self.sal=sal\n"
      ]
    },
    {
      "cell_type": "code",
      "execution_count": null,
      "metadata": {
        "id": "MwdbSxamzQhx",
        "outputId": "05151d31-863f-4846-aa3a-5be705c5b17d"
      },
      "outputs": [
        {
          "ename": "TypeError",
          "evalue": "__init__() missing 2 required positional arguments: 'age' and 'sal'",
          "output_type": "error",
          "traceback": [
            "\u001b[1;31m---------------------------------------------------------------------------\u001b[0m",
            "\u001b[1;31mTypeError\u001b[0m                                 Traceback (most recent call last)",
            "\u001b[1;32m<ipython-input-5-980ca38a04a0>\u001b[0m in \u001b[0;36m<module>\u001b[1;34m\u001b[0m\n\u001b[1;32m----> 1\u001b[1;33m \u001b[0me1\u001b[0m\u001b[1;33m=\u001b[0m\u001b[0mEmp\u001b[0m\u001b[1;33m(\u001b[0m\u001b[1;34m\"amit\"\u001b[0m\u001b[1;33m)\u001b[0m\u001b[1;33m\u001b[0m\u001b[1;33m\u001b[0m\u001b[0m\n\u001b[0m",
            "\u001b[1;31mTypeError\u001b[0m: __init__() missing 2 required positional arguments: 'age' and 'sal'"
          ]
        }
      ],
      "source": [
        "e1=Emp(\"amit\")"
      ]
    },
    {
      "cell_type": "code",
      "execution_count": null,
      "metadata": {
        "id": "1lgX-XszzQh0",
        "outputId": "a3ab29fb-c8d2-4936-ec54-a98961901213"
      },
      "outputs": [
        {
          "ename": "TypeError",
          "evalue": "__init__() missing 1 required positional argument: 'sal'",
          "output_type": "error",
          "traceback": [
            "\u001b[1;31m---------------------------------------------------------------------------\u001b[0m",
            "\u001b[1;31mTypeError\u001b[0m                                 Traceback (most recent call last)",
            "\u001b[1;32m<ipython-input-6-f7e73b0e25c4>\u001b[0m in \u001b[0;36m<module>\u001b[1;34m\u001b[0m\n\u001b[1;32m----> 1\u001b[1;33m \u001b[0me2\u001b[0m\u001b[1;33m=\u001b[0m\u001b[0mEmp\u001b[0m\u001b[1;33m(\u001b[0m\u001b[1;34m\"sumit\"\u001b[0m\u001b[1;33m,\u001b[0m\u001b[1;36m23\u001b[0m\u001b[1;33m)\u001b[0m\u001b[1;33m\u001b[0m\u001b[1;33m\u001b[0m\u001b[0m\n\u001b[0m",
            "\u001b[1;31mTypeError\u001b[0m: __init__() missing 1 required positional argument: 'sal'"
          ]
        }
      ],
      "source": [
        "e2=Emp(\"sumit\",23)"
      ]
    },
    {
      "cell_type": "code",
      "execution_count": null,
      "metadata": {
        "id": "vfnvh7BczQh0"
      },
      "outputs": [],
      "source": [
        "e3=Emp(\"deepak\",34,50000.)"
      ]
    },
    {
      "cell_type": "code",
      "execution_count": null,
      "metadata": {
        "id": "yb2kCoSWzQh1",
        "outputId": "287e9e8f-bc15-49a8-856d-98515e6c1ed5"
      },
      "outputs": [
        {
          "ename": "NameError",
          "evalue": "name 'e1' is not defined",
          "output_type": "error",
          "traceback": [
            "\u001b[1;31m---------------------------------------------------------------------------\u001b[0m",
            "\u001b[1;31mNameError\u001b[0m                                 Traceback (most recent call last)",
            "\u001b[1;32m<ipython-input-8-0f3f6405404d>\u001b[0m in \u001b[0;36m<module>\u001b[1;34m\u001b[0m\n\u001b[1;32m----> 1\u001b[1;33m \u001b[0mprint\u001b[0m\u001b[1;33m(\u001b[0m\u001b[0me1\u001b[0m\u001b[1;33m.\u001b[0m\u001b[0mname\u001b[0m\u001b[1;33m)\u001b[0m\u001b[1;33m\u001b[0m\u001b[1;33m\u001b[0m\u001b[0m\n\u001b[0m",
            "\u001b[1;31mNameError\u001b[0m: name 'e1' is not defined"
          ]
        }
      ],
      "source": [
        "print(e1.name)"
      ]
    },
    {
      "cell_type": "code",
      "execution_count": null,
      "metadata": {
        "id": "GS4GcslFzQh1",
        "outputId": "3a37e0b6-8132-4844-b7d0-2083ff0fe57e"
      },
      "outputs": [
        {
          "ename": "NameError",
          "evalue": "name 'e2' is not defined",
          "output_type": "error",
          "traceback": [
            "\u001b[1;31m---------------------------------------------------------------------------\u001b[0m",
            "\u001b[1;31mNameError\u001b[0m                                 Traceback (most recent call last)",
            "\u001b[1;32m<ipython-input-9-7e662a0a512c>\u001b[0m in \u001b[0;36m<module>\u001b[1;34m\u001b[0m\n\u001b[1;32m----> 1\u001b[1;33m \u001b[0mprint\u001b[0m\u001b[1;33m(\u001b[0m\u001b[0me2\u001b[0m\u001b[1;33m.\u001b[0m\u001b[0mname\u001b[0m\u001b[1;33m,\u001b[0m\u001b[0me2\u001b[0m\u001b[1;33m.\u001b[0m\u001b[0mage\u001b[0m\u001b[1;33m)\u001b[0m\u001b[1;33m\u001b[0m\u001b[1;33m\u001b[0m\u001b[0m\n\u001b[0m",
            "\u001b[1;31mNameError\u001b[0m: name 'e2' is not defined"
          ]
        }
      ],
      "source": [
        "print(e2.name,e2.age)"
      ]
    },
    {
      "cell_type": "code",
      "execution_count": null,
      "metadata": {
        "id": "zpUNpdKozQh1",
        "outputId": "db6e0f38-061a-4430-bced-2ea757930b70"
      },
      "outputs": [
        {
          "name": "stdout",
          "output_type": "stream",
          "text": [
            "deepak 34 50000.0\n"
          ]
        }
      ],
      "source": [
        "\n",
        "\n",
        "print(e3.name,e3.age,e3.sal)\n",
        "\n"
      ]
    },
    {
      "cell_type": "code",
      "execution_count": null,
      "metadata": {
        "id": "xAi6RI7zzQh2"
      },
      "outputs": [],
      "source": [
        "class Emp:\n",
        "\tdef __init__(self,name,age=0,sal=0.0):\n",
        "\t\tself.name=name\n",
        "\t\tself.age=age\n",
        "\t\tself.sal=sal\n",
        "\t\n",
        "e1=Emp(\"amit\")\n",
        "e2=Emp(\"sumit\",23)\n",
        "e3=Emp(\"deepak\",34,50000.)\n",
        "print(e1.name)\n",
        "print(e2.name,e2.age)\n",
        "print(e3.name,e3.age,e3.sal)"
      ]
    },
    {
      "cell_type": "code",
      "execution_count": null,
      "metadata": {
        "id": "UXIFG8xjzQh2"
      },
      "outputs": [],
      "source": [
        "class Emp:\n",
        "\tdef __init__(self,*name):\n",
        "\t\tself.name=name\n",
        "\t\t#self.age=age\n",
        "\t\t#self.sal=sal\n",
        "\t\n",
        "#e1=Emp(\"amit\")\n",
        "#e2=Emp(\"sumit\",23)\n",
        "e3=Emp(\"deepak\",34,50000.)\n"
      ]
    },
    {
      "cell_type": "code",
      "execution_count": null,
      "metadata": {
        "id": "vEdZPQpBzQh3",
        "outputId": "aa3eb2a9-bead-4175-d06f-77a0e5896141"
      },
      "outputs": [
        {
          "name": "stdout",
          "output_type": "stream",
          "text": [
            "('deepak', 34, 50000.0)\n"
          ]
        }
      ],
      "source": [
        "print(e3.name)\n",
        "#print(e2.name,e2.age)\n",
        "#print(e3.name,e3.age,e3.sal)"
      ]
    },
    {
      "cell_type": "markdown",
      "metadata": {
        "id": "-qnANMZczQh3"
      },
      "source": [
        "- Types Of Methods\n",
        "\n",
        "- Adding Instance Methods\n",
        "\n",
        "- Obtaining Details Of Instance Variables\n",
        "\n",
        "- Different Ways To Create Instance Variables\n",
        "\n",
        "- Deleting Instance Variables\n"
      ]
    },
    {
      "cell_type": "code",
      "execution_count": null,
      "metadata": {
        "id": "-3ZoX25wzQh3"
      },
      "outputs": [],
      "source": [
        "In Python , a class can have 3 types of methods:\n",
        "\n",
        "Instance Methods: Called using object\n",
        "\n",
        "Class Methods: Called using class name\n",
        "\n",
        "Static Methods: Called using class name\n"
      ]
    },
    {
      "cell_type": "code",
      "execution_count": null,
      "metadata": {
        "id": "Ze5Bx-d0zQh4"
      },
      "outputs": [],
      "source": [
        "Instance methods are the most common type of methods in Python classes. \n",
        "\n",
        "\n",
        "\n",
        "\n",
        "These are called instance methods because they can access instance members of the object.\n"
      ]
    },
    {
      "cell_type": "code",
      "execution_count": null,
      "metadata": {
        "id": "dv2-SmWUzQh4"
      },
      "outputs": [],
      "source": [
        "These methods always take atleast  one parameter, which is normally called self, which points to the current object for which the method is called.\n",
        "\n",
        "\n",
        "Through the self parameter, instance methods can access data members and other methods on the same object. \n",
        "\n",
        "\n",
        "This gives them a lot of power when it comes to modifying an object’s state.  \n"
      ]
    },
    {
      "cell_type": "code",
      "execution_count": null,
      "metadata": {
        "id": "OPxO7DCjzQh5"
      },
      "outputs": [],
      "source": [
        "class Emp:\n",
        "    def __init__(self,age,name,salary):\n",
        "        print(id(self))\n",
        "        self.age=age\n",
        "        self.name=name\n",
        "        self.salary=salary\n",
        "    def show(self):\n",
        "        print(\"Age:\",self.age,\"Name:\",self.name,\"Salary:\",self.salary)\n"
      ]
    },
    {
      "cell_type": "code",
      "execution_count": null,
      "metadata": {
        "id": "4e65gI4TzQh5",
        "outputId": "e853f1b9-26ab-448c-8626-f8271afa960f"
      },
      "outputs": [
        {
          "name": "stdout",
          "output_type": "stream",
          "text": [
            "1471557586656\n"
          ]
        }
      ],
      "source": [
        "e=Emp(25,\"Rahul\",30000.0)"
      ]
    },
    {
      "cell_type": "code",
      "execution_count": null,
      "metadata": {
        "id": "SE81MZ_QzQh6",
        "outputId": "8ea2cecd-fd51-4778-c20c-979e9121fa3a"
      },
      "outputs": [
        {
          "name": "stdout",
          "output_type": "stream",
          "text": [
            "1471557586656\n"
          ]
        }
      ],
      "source": [
        "print(id(e))"
      ]
    },
    {
      "cell_type": "code",
      "execution_count": null,
      "metadata": {
        "id": "ib5UbUfEzQh6",
        "outputId": "06b32c75-7184-44b0-e173-1df739ece068"
      },
      "outputs": [
        {
          "name": "stdout",
          "output_type": "stream",
          "text": [
            "1471557586464\n"
          ]
        }
      ],
      "source": [
        "f=Emp(31,\"Varun\",45000.0)"
      ]
    },
    {
      "cell_type": "code",
      "execution_count": null,
      "metadata": {
        "id": "YIlYz7YhzQh7",
        "outputId": "5aa78559-a872-48b0-a13c-064053b51589"
      },
      "outputs": [
        {
          "name": "stdout",
          "output_type": "stream",
          "text": [
            "1471557586464\n"
          ]
        }
      ],
      "source": [
        "print(id(f))"
      ]
    },
    {
      "cell_type": "code",
      "execution_count": null,
      "metadata": {
        "id": "TRuBDVOEzQh7",
        "outputId": "2bf65e34-5256-474f-d926-4c3d417c01c4"
      },
      "outputs": [
        {
          "name": "stdout",
          "output_type": "stream",
          "text": [
            "Age: 25 Name: Rahul Salary: 30000.0\n",
            "Age: 31 Name: Varun Salary: 45000.0\n"
          ]
        }
      ],
      "source": [
        "e.show()\n",
        "f.show()\n"
      ]
    },
    {
      "cell_type": "code",
      "execution_count": null,
      "metadata": {
        "id": "tf1xrpFvzQh8"
      },
      "outputs": [],
      "source": [
        "class Emp:\n",
        "    def __init__(self,name,age,sal):\n",
        "        name=name\n",
        "        age=age\n",
        "        sal=sal\n",
        "        print(name,age,sal)\n",
        "    def show(self):\n",
        "        print(self.age,self.name,self.sal)"
      ]
    },
    {
      "cell_type": "code",
      "execution_count": null,
      "metadata": {
        "id": "Ndc5DpNozQh8",
        "outputId": "fe6f3a29-5703-438c-9ab0-ced8eaa00bca"
      },
      "outputs": [
        {
          "name": "stdout",
          "output_type": "stream",
          "text": [
            "amit 34 50000.0\n"
          ]
        }
      ],
      "source": [
        "e1=Emp(\"amit\",34,50000.0)"
      ]
    },
    {
      "cell_type": "code",
      "execution_count": null,
      "metadata": {
        "id": "1fQkUCs2zQh8",
        "outputId": "68697cbe-575c-4da9-f36e-5a97412f22ed"
      },
      "outputs": [
        {
          "ename": "AttributeError",
          "evalue": "'Emp' object has no attribute 'age'",
          "output_type": "error",
          "traceback": [
            "\u001b[1;31m---------------------------------------------------------------------------\u001b[0m",
            "\u001b[1;31mAttributeError\u001b[0m                            Traceback (most recent call last)",
            "\u001b[1;32m<ipython-input-28-322691ee7613>\u001b[0m in \u001b[0;36m<module>\u001b[1;34m\u001b[0m\n\u001b[1;32m----> 1\u001b[1;33m \u001b[0me1\u001b[0m\u001b[1;33m.\u001b[0m\u001b[0mshow\u001b[0m\u001b[1;33m(\u001b[0m\u001b[1;33m)\u001b[0m\u001b[1;33m\u001b[0m\u001b[1;33m\u001b[0m\u001b[0m\n\u001b[0m",
            "\u001b[1;32m<ipython-input-26-c596fa30346d>\u001b[0m in \u001b[0;36mshow\u001b[1;34m(self)\u001b[0m\n\u001b[0;32m      5\u001b[0m         \u001b[0msal\u001b[0m\u001b[1;33m=\u001b[0m\u001b[0msal\u001b[0m\u001b[1;33m\u001b[0m\u001b[1;33m\u001b[0m\u001b[0m\n\u001b[0;32m      6\u001b[0m     \u001b[1;32mdef\u001b[0m \u001b[0mshow\u001b[0m\u001b[1;33m(\u001b[0m\u001b[0mself\u001b[0m\u001b[1;33m)\u001b[0m\u001b[1;33m:\u001b[0m\u001b[1;33m\u001b[0m\u001b[1;33m\u001b[0m\u001b[0m\n\u001b[1;32m----> 7\u001b[1;33m         \u001b[0mprint\u001b[0m\u001b[1;33m(\u001b[0m\u001b[0mself\u001b[0m\u001b[1;33m.\u001b[0m\u001b[0mage\u001b[0m\u001b[1;33m,\u001b[0m\u001b[0mself\u001b[0m\u001b[1;33m.\u001b[0m\u001b[0mname\u001b[0m\u001b[1;33m,\u001b[0m\u001b[0mself\u001b[0m\u001b[1;33m.\u001b[0m\u001b[0msal\u001b[0m\u001b[1;33m)\u001b[0m\u001b[1;33m\u001b[0m\u001b[1;33m\u001b[0m\u001b[0m\n\u001b[0m",
            "\u001b[1;31mAttributeError\u001b[0m: 'Emp' object has no attribute 'age'"
          ]
        }
      ],
      "source": [
        "e1.show()\n"
      ]
    },
    {
      "cell_type": "code",
      "execution_count": null,
      "metadata": {
        "id": "T6fV2XPbzQh9"
      },
      "outputs": [],
      "source": [
        "\n",
        "        \n",
        "        \n",
        "\n"
      ]
    },
    {
      "cell_type": "markdown",
      "metadata": {
        "id": "NTn6n7tVzQh9"
      },
      "source": [
        "Every object in Python has an attribute denoted by __dict__.\n",
        "\n",
        "\n",
        "This attribute is automatically added by Python and it contains all the attributes defined for the object itself. \n",
        "\n",
        "\n",
        "\n",
        "It maps the attribute name to its value.\n"
      ]
    },
    {
      "cell_type": "code",
      "execution_count": null,
      "metadata": {
        "id": "O_QhcZ1LzQh-"
      },
      "outputs": [],
      "source": [
        "class Emp:\n",
        "\t\n",
        "\tdef __init__(self):\n",
        "\t\tself.name=\"Amit\"\n",
        "\t\tself.age=24\n",
        "\t\tself.sal=50000.0"
      ]
    },
    {
      "cell_type": "code",
      "execution_count": null,
      "metadata": {
        "id": "2xpEG1-NzQh-"
      },
      "outputs": [],
      "source": [
        "e1=Emp()"
      ]
    },
    {
      "cell_type": "code",
      "execution_count": null,
      "metadata": {
        "id": "w_RWWosYzQh-",
        "outputId": "f79f3b10-faad-42c7-e224-51ccca334ff1"
      },
      "outputs": [
        {
          "name": "stdout",
          "output_type": "stream",
          "text": [
            "{'name': 'Amit', 'age': 24, 'sal': 50000.0}\n"
          ]
        }
      ],
      "source": [
        "\n",
        "print(e1.__dict__)\n"
      ]
    },
    {
      "cell_type": "code",
      "execution_count": null,
      "metadata": {
        "id": "nk7ECc_lzQh_"
      },
      "outputs": [],
      "source": [
        "class Emp:\n",
        "    def __init__(self):\n",
        "        self.name=\"Amit\"\n",
        "        self.age=24\n",
        "    def set_sal(self):\n",
        "        self.sal=50000.0"
      ]
    },
    {
      "cell_type": "code",
      "execution_count": null,
      "metadata": {
        "id": "qPIjt9TkzQh_"
      },
      "outputs": [],
      "source": [
        "e1=Emp()"
      ]
    },
    {
      "cell_type": "code",
      "execution_count": null,
      "metadata": {
        "id": "BF3k_5_czQh_",
        "outputId": "52119857-3acf-4737-abf4-9207b4a9527e"
      },
      "outputs": [
        {
          "name": "stdout",
          "output_type": "stream",
          "text": [
            "{'name': 'Amit', 'age': 24}\n"
          ]
        }
      ],
      "source": [
        "print(e1.__dict__)"
      ]
    },
    {
      "cell_type": "code",
      "execution_count": null,
      "metadata": {
        "id": "Qoix6sqTzQiA"
      },
      "outputs": [],
      "source": [
        "e1.set_sal()"
      ]
    },
    {
      "cell_type": "code",
      "execution_count": null,
      "metadata": {
        "id": "uEPGMPLgzQiA",
        "outputId": "7e47bc9f-83cd-4bef-f491-a36278843940"
      },
      "outputs": [
        {
          "name": "stdout",
          "output_type": "stream",
          "text": [
            "{'name': 'Amit', 'age': 24, 'sal': 50000.0}\n"
          ]
        }
      ],
      "source": [
        "print(e1.__dict__)"
      ]
    },
    {
      "cell_type": "code",
      "execution_count": null,
      "metadata": {
        "id": "myvOg-U8zQiA"
      },
      "outputs": [],
      "source": [
        "class Emp:\n",
        "    def __init__(self):\n",
        "        self.name=\"Amit\"\n",
        "        self.age=24\n",
        "        self.sal=50000.0\n",
        "    def show(self):\n",
        "        print(self.name,self.age,self.sal,self.department)"
      ]
    },
    {
      "cell_type": "code",
      "execution_count": null,
      "metadata": {
        "id": "MktPj_CRzQiB"
      },
      "outputs": [],
      "source": [
        "e1=Emp()"
      ]
    },
    {
      "cell_type": "code",
      "execution_count": null,
      "metadata": {
        "id": "tVW2XDWVzQiB",
        "outputId": "f769bbef-19c8-43c1-97a8-944d55eb4213"
      },
      "outputs": [
        {
          "name": "stdout",
          "output_type": "stream",
          "text": [
            "{'name': 'Amit', 'age': 24, 'sal': 50000.0}\n"
          ]
        }
      ],
      "source": [
        "print(e1.__dict__)"
      ]
    },
    {
      "cell_type": "code",
      "execution_count": null,
      "metadata": {
        "id": "TSy_gkcFzQiB"
      },
      "outputs": [],
      "source": [
        "e1.__dict__['department']='IT'"
      ]
    },
    {
      "cell_type": "code",
      "execution_count": null,
      "metadata": {
        "id": "dW95NWQozQiC",
        "outputId": "5682d3b1-7c3b-466b-f1e0-c94b6fe0cd51"
      },
      "outputs": [
        {
          "name": "stdout",
          "output_type": "stream",
          "text": [
            "{'name': 'Amit', 'age': 24, 'sal': 50000.0, 'department': 'IT'}\n"
          ]
        }
      ],
      "source": [
        "print(e1.__dict__)"
      ]
    },
    {
      "cell_type": "code",
      "execution_count": null,
      "metadata": {
        "id": "J-szefPqzQiC",
        "outputId": "24cbcb92-d2e9-47fe-fd18-1fcd5532f2ce"
      },
      "outputs": [
        {
          "name": "stdout",
          "output_type": "stream",
          "text": [
            "Amit 24 50000.0 IT\n"
          ]
        }
      ],
      "source": [
        "e1.show()"
      ]
    },
    {
      "cell_type": "markdown",
      "metadata": {
        "id": "DHc-BcE2zQiD"
      },
      "source": [
        "Since __dict__ is a dictionary , we can manipulate it and add/del instance members from it\n"
      ]
    },
    {
      "cell_type": "code",
      "execution_count": null,
      "metadata": {
        "id": "oSGqJR60zQiE"
      },
      "outputs": [],
      "source": [
        "class Emp:\n",
        "    def __init__(self):\n",
        "            self.name=\"Amit\"\n",
        "            self.age=24\n",
        "            self.sal=50000.0\n",
        "    def show(self):\n",
        "            print(self.name,self.age,self.sal,self.department)"
      ]
    },
    {
      "cell_type": "code",
      "execution_count": null,
      "metadata": {
        "id": "neMZY4kRzQiE"
      },
      "outputs": [],
      "source": [
        "e1=Emp()"
      ]
    },
    {
      "cell_type": "code",
      "execution_count": null,
      "metadata": {
        "id": "hsfJ0TbYzQiE",
        "outputId": "fadbc713-221e-40b0-9107-0fbab2525110"
      },
      "outputs": [
        {
          "name": "stdout",
          "output_type": "stream",
          "text": [
            "{'name': 'Amit', 'age': 24, 'sal': 50000.0}\n"
          ]
        }
      ],
      "source": [
        "print(e1.__dict__)"
      ]
    },
    {
      "cell_type": "code",
      "execution_count": null,
      "metadata": {
        "id": "hno8PqGozQiF"
      },
      "outputs": [],
      "source": [
        "e1.__dict__['department']='IT'"
      ]
    },
    {
      "cell_type": "code",
      "execution_count": null,
      "metadata": {
        "id": "vNB8xhK3zQiF",
        "outputId": "ecb5df0d-c7d1-4c5a-ea71-56c2f9d8544e"
      },
      "outputs": [
        {
          "name": "stdout",
          "output_type": "stream",
          "text": [
            "{'name': 'Amit', 'age': 24, 'sal': 50000.0, 'department': 'IT'}\n"
          ]
        }
      ],
      "source": [
        "print(e1.__dict__)"
      ]
    },
    {
      "cell_type": "code",
      "execution_count": null,
      "metadata": {
        "id": "UulgmTp9zQiF",
        "outputId": "79b69fd7-b4eb-40da-80ea-2b2ac1677312"
      },
      "outputs": [
        {
          "name": "stdout",
          "output_type": "stream",
          "text": [
            "Amit 24 50000.0 IT\n"
          ]
        }
      ],
      "source": [
        "e1.show()"
      ]
    },
    {
      "cell_type": "code",
      "execution_count": null,
      "metadata": {
        "id": "nGe7VzCszQiG"
      },
      "outputs": [],
      "source": [
        "del e1.__dict__['age']"
      ]
    },
    {
      "cell_type": "code",
      "execution_count": null,
      "metadata": {
        "id": "ruhUetzpzQiG",
        "outputId": "00e9121e-dcb9-4125-a8ce-c9f2bdecf9a1"
      },
      "outputs": [
        {
          "ename": "AttributeError",
          "evalue": "'Emp' object has no attribute 'age'",
          "output_type": "error",
          "traceback": [
            "\u001b[1;31m---------------------------------------------------------------------------\u001b[0m",
            "\u001b[1;31mAttributeError\u001b[0m                            Traceback (most recent call last)",
            "\u001b[1;32m<ipython-input-56-322691ee7613>\u001b[0m in \u001b[0;36m<module>\u001b[1;34m\u001b[0m\n\u001b[1;32m----> 1\u001b[1;33m \u001b[0me1\u001b[0m\u001b[1;33m.\u001b[0m\u001b[0mshow\u001b[0m\u001b[1;33m(\u001b[0m\u001b[1;33m)\u001b[0m\u001b[1;33m\u001b[0m\u001b[1;33m\u001b[0m\u001b[0m\n\u001b[0m",
            "\u001b[1;32m<ipython-input-49-e85b7c51a657>\u001b[0m in \u001b[0;36mshow\u001b[1;34m(self)\u001b[0m\n\u001b[0;32m      5\u001b[0m             \u001b[0mself\u001b[0m\u001b[1;33m.\u001b[0m\u001b[0msal\u001b[0m\u001b[1;33m=\u001b[0m\u001b[1;36m50000.0\u001b[0m\u001b[1;33m\u001b[0m\u001b[1;33m\u001b[0m\u001b[0m\n\u001b[0;32m      6\u001b[0m     \u001b[1;32mdef\u001b[0m \u001b[0mshow\u001b[0m\u001b[1;33m(\u001b[0m\u001b[0mself\u001b[0m\u001b[1;33m)\u001b[0m\u001b[1;33m:\u001b[0m\u001b[1;33m\u001b[0m\u001b[1;33m\u001b[0m\u001b[0m\n\u001b[1;32m----> 7\u001b[1;33m             \u001b[0mprint\u001b[0m\u001b[1;33m(\u001b[0m\u001b[0mself\u001b[0m\u001b[1;33m.\u001b[0m\u001b[0mname\u001b[0m\u001b[1;33m,\u001b[0m\u001b[0mself\u001b[0m\u001b[1;33m.\u001b[0m\u001b[0mage\u001b[0m\u001b[1;33m,\u001b[0m\u001b[0mself\u001b[0m\u001b[1;33m.\u001b[0m\u001b[0msal\u001b[0m\u001b[1;33m,\u001b[0m\u001b[0mself\u001b[0m\u001b[1;33m.\u001b[0m\u001b[0mdepartment\u001b[0m\u001b[1;33m)\u001b[0m\u001b[1;33m\u001b[0m\u001b[1;33m\u001b[0m\u001b[0m\n\u001b[0m",
            "\u001b[1;31mAttributeError\u001b[0m: 'Emp' object has no attribute 'age'"
          ]
        }
      ],
      "source": [
        "e1.show()"
      ]
    },
    {
      "cell_type": "code",
      "execution_count": null,
      "metadata": {
        "id": "6ULQa1Y6zQiG",
        "outputId": "9cf5d5eb-11f0-494d-b230-857ab78c5608"
      },
      "outputs": [
        {
          "name": "stdout",
          "output_type": "stream",
          "text": [
            "{'name': 'Amit', 'sal': 50000.0, 'department': 'IT'}\n"
          ]
        }
      ],
      "source": [
        "print(e1.__dict__)"
      ]
    },
    {
      "cell_type": "code",
      "execution_count": null,
      "metadata": {
        "id": "oIL3izM5zQiH"
      },
      "outputs": [],
      "source": [
        "dic={}"
      ]
    },
    {
      "cell_type": "code",
      "execution_count": null,
      "metadata": {
        "id": "oNstqBMWzQiH"
      },
      "outputs": [],
      "source": [
        "dic2={'1':\"sunny\",\"2\":\"savita\"}"
      ]
    },
    {
      "cell_type": "code",
      "execution_count": null,
      "metadata": {
        "id": "alRpukyJzQiH"
      },
      "outputs": [],
      "source": [
        "dic.update(dic2)"
      ]
    },
    {
      "cell_type": "code",
      "execution_count": null,
      "metadata": {
        "id": "PvwI6W67zQiI",
        "outputId": "9990541f-0528-45fa-b5ed-b04b7d62ec56"
      },
      "outputs": [
        {
          "data": {
            "text/plain": [
              "{'1': 'sunny', '2': 'savita'}"
            ]
          },
          "execution_count": 64,
          "metadata": {},
          "output_type": "execute_result"
        }
      ],
      "source": [
        "dic"
      ]
    },
    {
      "cell_type": "code",
      "execution_count": null,
      "metadata": {
        "id": "hMC9qVhyzQiI"
      },
      "outputs": [],
      "source": [
        "class Emp:\n",
        "    def __init__(self,**kwargs):\n",
        "        self.__dict__.update(kwargs)\n",
        "    def show(self):\n",
        "        print(self.name,self.age,self.sal)\n"
      ]
    },
    {
      "cell_type": "code",
      "execution_count": null,
      "metadata": {
        "id": "Y-0BqDULzQiI"
      },
      "outputs": [],
      "source": [
        "e1=Emp(name=\"Amit\",age=24,sal=50000.0)"
      ]
    },
    {
      "cell_type": "code",
      "execution_count": null,
      "metadata": {
        "id": "YwguU4kSzQiJ",
        "outputId": "c36d551c-2b98-4275-854e-afb0dbffe4fe"
      },
      "outputs": [
        {
          "name": "stdout",
          "output_type": "stream",
          "text": [
            "Amit 24 50000.0\n"
          ]
        }
      ],
      "source": [
        "\n",
        "\n",
        "e1.show()\n"
      ]
    },
    {
      "cell_type": "code",
      "execution_count": null,
      "metadata": {
        "id": "pWSugTigzQiJ"
      },
      "outputs": [],
      "source": [
        "Till now we can say there are 4 ways in Python to create instance variables:\n",
        "\n",
        "Inside the constructor/__init__() method using self\n",
        "\n",
        "Inside any instance method of the class using self\n",
        "\n",
        "Outside the class using it’s object reference\n",
        "\n",
        "Using the instance attribute  __dict__\n",
        "\n"
      ]
    },
    {
      "cell_type": "code",
      "execution_count": null,
      "metadata": {
        "id": "zrj7GUQCzQiJ"
      },
      "outputs": [],
      "source": [
        "class Emp:\n",
        "\n",
        "    def __init__(self,name,age,sal):\n",
        "        self.name=name\n",
        "        self.age=age\n",
        "        self.sal=sal\n",
        "    def setDept(self,department):\n",
        "        self.department=department\n",
        "    def setProject(self,project):\n",
        "        self.project=project\n",
        "    def setBonus(self,bonus):\n",
        "        self.bonus=bonus\n",
        "    def remove(self):\n",
        "        del self.name\n",
        "        del self.age"
      ]
    },
    {
      "cell_type": "code",
      "execution_count": null,
      "metadata": {
        "id": "Sqv3Ks1EzQiK"
      },
      "outputs": [],
      "source": [
        "e1=Emp(\"Amit\",24,30000.0)"
      ]
    },
    {
      "cell_type": "code",
      "execution_count": null,
      "metadata": {
        "id": "cqAz2OapzQiL"
      },
      "outputs": [],
      "source": [
        "e1.setDept(\"Finance\")\n",
        "e1.setProject(\"Banking Info System\")\n",
        "e1.setBonus(20000.0)"
      ]
    },
    {
      "cell_type": "code",
      "execution_count": null,
      "metadata": {
        "id": "WPhrbVIfzQiL",
        "outputId": "e13e5271-2251-4121-88ae-7e2d5c9a872a"
      },
      "outputs": [
        {
          "name": "stdout",
          "output_type": "stream",
          "text": [
            "{'name': 'Amit', 'age': 24, 'sal': 30000.0, 'department': 'Finance', 'project': 'Banking Info System', 'bonus': 20000.0}\n"
          ]
        }
      ],
      "source": [
        "print(e1.__dict__)"
      ]
    },
    {
      "cell_type": "code",
      "execution_count": null,
      "metadata": {
        "id": "N-QPLfR6zQiM"
      },
      "outputs": [],
      "source": [
        "e1.remove()"
      ]
    },
    {
      "cell_type": "code",
      "execution_count": null,
      "metadata": {
        "id": "-KUFddZxzQiM",
        "outputId": "7eca7a5e-c2b1-4286-fddf-d0379a7fa855"
      },
      "outputs": [
        {
          "data": {
            "text/plain": [
              "{'sal': 30000.0,\n",
              " 'department': 'Finance',\n",
              " 'project': 'Banking Info System',\n",
              " 'bonus': 20000.0}"
            ]
          },
          "execution_count": 88,
          "metadata": {},
          "output_type": "execute_result"
        }
      ],
      "source": [
        "e1.__dict__"
      ]
    },
    {
      "cell_type": "code",
      "execution_count": null,
      "metadata": {
        "id": "JD1pZ-TszQiN"
      },
      "outputs": [],
      "source": [
        "del e1.sal"
      ]
    },
    {
      "cell_type": "code",
      "execution_count": null,
      "metadata": {
        "id": "skZf_pGgzQiN",
        "outputId": "4faef0ff-b13c-4bda-fe30-8deca98d4444"
      },
      "outputs": [
        {
          "data": {
            "text/plain": [
              "{'department': 'Finance', 'project': 'Banking Info System', 'bonus': 20000.0}"
            ]
          },
          "execution_count": 91,
          "metadata": {},
          "output_type": "execute_result"
        }
      ],
      "source": [
        "e1.__dict__"
      ]
    },
    {
      "cell_type": "code",
      "execution_count": null,
      "metadata": {
        "id": "qbCxsVu2zQiN"
      },
      "outputs": [],
      "source": [
        "\n",
        "e2=Emp(\"Sumit\",34,45000.0)\n",
        "\n",
        "e2.setDept(\"Production\")\n",
        "\n",
        "print()\n",
        "print(e2.__dict__)"
      ]
    },
    {
      "cell_type": "code",
      "execution_count": null,
      "metadata": {
        "id": "f_l6nogvzQiO"
      },
      "outputs": [],
      "source": [
        "We can delete/remove instance variables in 2 ways:\n",
        "\n",
        "Using del self .<var_name> from the body of any instance method within the class\n",
        "\n",
        "Using del <obj_ref>.<var_name> from outside the class\n",
        "\n",
        "\n"
      ]
    },
    {
      "cell_type": "markdown",
      "metadata": {
        "id": "WtQ-0tV6zQiO"
      },
      "source": [
        "- Adding Class Variables\n",
        "\n",
        "- Different Ways To Create A Class Variable\n",
        "\n",
        "- Different Ways To Access A Class Variable\n",
        "\n",
        "- Obtaining Details Of Class Variables\n",
        "\n",
        "- Deleting Class Variables\n",
        "\n"
      ]
    },
    {
      "cell_type": "code",
      "execution_count": null,
      "metadata": {
        "id": "QzlRTQWRzQiP"
      },
      "outputs": [],
      "source": [
        "Class variables are those variables which are defined within the class body outside any method\n",
        "\n",
        "They are also called as static variables , although there is no static keyword used with them\n",
        "\n",
        "The are shared by all instances of the class and have the same value for each instance of the class.\n",
        "\n",
        "They have a single copy maintained at the class level\n",
        "\n",
        "The term class level means inside the class object.\n",
        "\n",
        "In Python , for every class one special object is created called as class object \n",
        "\n",
        "Don’t think it is the same object which we create. No it is not that!\n",
        "\n",
        "Rather , for every class , Python itself creates an object called as class object and inside this object all the class / static variables live\n",
        "\n"
      ]
    },
    {
      "cell_type": "code",
      "execution_count": null,
      "metadata": {
        "id": "wy9qkjNWzQiP"
      },
      "outputs": [],
      "source": [
        "We can use a class variable at 6 places in Python:\n",
        "\n",
        "Inside the class body but outside any method\n",
        "\n",
        "Inside the constructor using the name of the class\n",
        "\n",
        "Inside instance method using name of the class\n",
        "\n",
        "Inside classmethod using name of the class or using the special reference cls\n",
        "\n",
        "Inside staticmethod using the name of the class\n",
        "\n",
        "From outside the class using name of the class\n",
        "\n"
      ]
    },
    {
      "cell_type": "code",
      "execution_count": null,
      "metadata": {
        "id": "-Drii54FzQiP"
      },
      "outputs": [],
      "source": [
        "We must clearly understand the difference between accessing and modifying .\n",
        "\n",
        "Accessing means we are just reading the value of the variable \n",
        "\n",
        "Modifying means we are changing it’s value"
      ]
    },
    {
      "cell_type": "code",
      "execution_count": null,
      "metadata": {
        "id": "K3vz78_0zQiQ"
      },
      "outputs": [],
      "source": [
        "The class variables can be accessed in 4 ways:\n",
        "\n",
        "Using name of the class anywhere in the program\n",
        "\n",
        "Using self inside any instance method\n",
        "\n",
        "Using object reference outside the class\n",
        "\n",
        "Using special reference cls inside classmethod\n",
        "\n"
      ]
    },
    {
      "cell_type": "code",
      "execution_count": null,
      "metadata": {
        "id": "Mt57xI_9zQiQ"
      },
      "outputs": [],
      "source": [
        "The class variables can be modified in 3 ways:\n",
        "\n",
        "Using name of the class anywhere inside the methods of the class\n",
        "\n",
        "Using special reference cls inside classmethod\n",
        "\n",
        "Using name of the class outside the class body\n",
        "\n",
        "Special Note:We must never modify a class variable using self or object reference , because it will not modify the class variable , rather will create a new instance variable by the same name\n"
      ]
    },
    {
      "cell_type": "code",
      "execution_count": null,
      "metadata": {
        "id": "Vdkn1L1AzQiQ"
      },
      "outputs": [],
      "source": [
        "class CompStudent: \n",
        "    stream = 'cse'                  \n",
        "    def __init__(self,name,roll): \n",
        "        self.name = name            \n",
        "        self.roll = roll  "
      ]
    },
    {
      "cell_type": "code",
      "execution_count": null,
      "metadata": {
        "id": "qVrwCIqCzQiR"
      },
      "outputs": [],
      "source": [
        "obj1 = CompStudent('Atul',1) "
      ]
    },
    {
      "cell_type": "code",
      "execution_count": null,
      "metadata": {
        "id": "onQdeTOPzQiR",
        "outputId": "ea81f3db-a854-4c70-ed17-c1991127a310"
      },
      "outputs": [
        {
          "name": "stdout",
          "output_type": "stream",
          "text": [
            "Atul\n",
            "1\n",
            "cse\n"
          ]
        }
      ],
      "source": [
        "print(obj1.name)     \n",
        "print(obj1.roll)\n",
        "print(obj1.stream)"
      ]
    },
    {
      "cell_type": "code",
      "execution_count": null,
      "metadata": {
        "id": "p3UTGh1ezQiR",
        "outputId": "025e133b-3eec-49e6-9f85-605a0dfda44f"
      },
      "outputs": [
        {
          "data": {
            "text/plain": [
              "'cse'"
            ]
          },
          "execution_count": 96,
          "metadata": {},
          "output_type": "execute_result"
        }
      ],
      "source": [
        "CompStudent.stream"
      ]
    },
    {
      "cell_type": "code",
      "execution_count": null,
      "metadata": {
        "id": "92Wmdd7dzQiS",
        "outputId": "38d57526-a6fa-42df-86f9-1c378418c3ca"
      },
      "outputs": [
        {
          "name": "stdout",
          "output_type": "stream",
          "text": [
            "Chetan\n",
            "2\n",
            "cse\n"
          ]
        }
      ],
      "source": [
        "obj2 = CompStudent('Chetan', 2) \n",
        "\n",
        "print(obj2.name)   \n",
        "print(obj2.roll) \n",
        "print(obj2.stream)"
      ]
    },
    {
      "cell_type": "code",
      "execution_count": null,
      "metadata": {
        "id": "M25paajLzQic",
        "outputId": "7d054f3c-f2c6-43a1-b329-0d5712416f58"
      },
      "outputs": [
        {
          "name": "stdout",
          "output_type": "stream",
          "text": [
            "cse\n"
          ]
        }
      ],
      "source": [
        "print(CompStudent.stream)"
      ]
    },
    {
      "cell_type": "code",
      "execution_count": null,
      "metadata": {
        "id": "wJ7g0-DYzQid"
      },
      "outputs": [],
      "source": [
        "class CompStudent: \n",
        "    \n",
        "    def __init__(self,name,roll): \n",
        "        CompStudent.stream='cse'\n",
        "        self.name = name            \n",
        "        self.roll = roll\n",
        "    def test(self):\n",
        "        CompStudent.schoolname=\"adsnak\""
      ]
    },
    {
      "cell_type": "code",
      "execution_count": null,
      "metadata": {
        "id": "0ZOO_gSPzQid"
      },
      "outputs": [],
      "source": [
        "obj1= CompStudent('Chetan', 2) \n"
      ]
    },
    {
      "cell_type": "code",
      "execution_count": null,
      "metadata": {
        "id": "xLV6ALkEzQid",
        "outputId": "a4f1aaaa-13b3-46d5-c2ae-fc9ee280a258"
      },
      "outputs": [
        {
          "name": "stdout",
          "output_type": "stream",
          "text": [
            "Chetan\n",
            "2\n",
            "cse\n"
          ]
        }
      ],
      "source": [
        "print(obj1.name)     \n",
        "print(obj1.roll)\n",
        "print(obj1.stream)"
      ]
    },
    {
      "cell_type": "code",
      "execution_count": null,
      "metadata": {
        "id": "9P39Wf_rzQie"
      },
      "outputs": [],
      "source": [
        "obj1.test()"
      ]
    },
    {
      "cell_type": "code",
      "execution_count": null,
      "metadata": {
        "id": "XAvTsU3uzQie",
        "outputId": "0557e68e-d9a7-4839-a3bc-10ac8faa0a17"
      },
      "outputs": [
        {
          "name": "stdout",
          "output_type": "stream",
          "text": [
            "adsnak\n"
          ]
        }
      ],
      "source": [
        "print(obj1.schoolname)"
      ]
    },
    {
      "cell_type": "code",
      "execution_count": null,
      "metadata": {
        "id": "zRJEopj1zQie"
      },
      "outputs": [],
      "source": [
        "            \n",
        "\n",
        "\n",
        "\n",
        "\n",
        "print(obj2.name)   \n",
        "print(obj2.roll)\n",
        "print(obj2.stream)   \n",
        "print(CompStudent.stream)\n"
      ]
    },
    {
      "cell_type": "code",
      "execution_count": null,
      "metadata": {
        "id": "E7JRzfc4zQif"
      },
      "outputs": [],
      "source": [
        "As we know , class variables are owned by a class itself (i.e., by its definition), so to store their details a class also uses a dictionary called __dict__\n",
        "\n",
        "\n",
        "Thus we can see that Python has 2 dictionaries called __dict__ .\n",
        "\n",
        "\n",
        "One is <class_name>.__dict__ and the other is <object_ref>.__dict__\n",
        "\n",
        "\n"
      ]
    },
    {
      "cell_type": "code",
      "execution_count": null,
      "metadata": {
        "id": "fh_UVicuzQif"
      },
      "outputs": [],
      "source": [
        "class Emp:\n",
        "    raise_per=7.5\n",
        "    comp_name=\"Google\"\n",
        "    def __init__(self):\n",
        "        self.name=\"Amit\"\n",
        "        self.age=24\n",
        "        self.sal=50000.0"
      ]
    },
    {
      "cell_type": "code",
      "execution_count": null,
      "metadata": {
        "id": "Owg2bB2UzQif"
      },
      "outputs": [],
      "source": [
        "\n",
        "e1=Emp()"
      ]
    },
    {
      "cell_type": "code",
      "execution_count": null,
      "metadata": {
        "id": "RYzZ8a9TzQig",
        "outputId": "ac25ca28-6486-4908-ba64-fbcf4b56bb7c"
      },
      "outputs": [
        {
          "name": "stdout",
          "output_type": "stream",
          "text": [
            "{'name': 'Amit', 'age': 24, 'sal': 50000.0}\n"
          ]
        }
      ],
      "source": [
        "print(e1.__dict__)"
      ]
    },
    {
      "cell_type": "code",
      "execution_count": null,
      "metadata": {
        "id": "6Lf6qZhszQig",
        "outputId": "bd851eda-0b8a-4564-83f5-37cc6706c9fb"
      },
      "outputs": [
        {
          "name": "stdout",
          "output_type": "stream",
          "text": [
            "{'__module__': '__main__', 'raise_per': 7.5, 'comp_name': 'Google', '__init__': <function Emp.__init__ at 0x000001569FBAD820>, '__dict__': <attribute '__dict__' of 'Emp' objects>, '__weakref__': <attribute '__weakref__' of 'Emp' objects>, '__doc__': None}\n"
          ]
        }
      ],
      "source": [
        "print(Emp.__dict__)\n"
      ]
    },
    {
      "cell_type": "code",
      "execution_count": null,
      "metadata": {
        "id": "5u6PMoskzQig"
      },
      "outputs": [],
      "source": [
        "class Sample:\n",
        "\ti=10\n",
        "\tdef  __init__(self):\n",
        "\t\tSample.j=20\n",
        "\tdef  f1(self):\n",
        "\t\tSample.k=30\n",
        "Sample.m=40\n",
        "print(Sample.__dict__)\n",
        "\n",
        "\n",
        "Why the code is showing only 2 class variables even though we have 4 ?\n",
        "\n",
        "This is because the class variable k will only be created when f1() gets called . Similarly the variable j will be created when we will create any object of the class . But since we didn’t create any object nor we have called the method   f1( ) so only 2 class variables are there called i and m \n"
      ]
    },
    {
      "cell_type": "code",
      "execution_count": null,
      "metadata": {
        "id": "LclPAdyYzQih"
      },
      "outputs": [],
      "source": [
        "class Sample:\n",
        "\ti=10\n",
        "\tdef __init__(self):\n",
        "\t\tSample.j=20\n",
        "\tdef f1(self):\n",
        "\t\tSample.k=30\n",
        "Sample.m=40\n",
        "s1=Sample()\n",
        "print(Sample.__dict__)\n"
      ]
    },
    {
      "cell_type": "code",
      "execution_count": null,
      "metadata": {
        "id": "d0MNfHNLzQih"
      },
      "outputs": [],
      "source": [
        "class Sample:\n",
        "\ti=10\n",
        "\tdef __init__(self):\n",
        "\t\tSample.j=20\n",
        "\tdef f1(self):\n",
        "\t\tSample.k=30\n",
        "Sample.m=40\n",
        "s1=Sample()\n",
        "s2=Sample()\n",
        "s1.f1()\n",
        "s2.f1()\n",
        "print(Sample.__dict__)\n"
      ]
    },
    {
      "cell_type": "markdown",
      "metadata": {
        "id": "cAs-84wOzQii"
      },
      "source": [
        "class Sample:\n",
        "\ti=10\n",
        "\tdef __init__(self):\n",
        "\t\tprint(\"Constructor called. . .\")\n",
        "\t\tprint(Sample.i)\n",
        "\t\tprint(self.i)\n",
        "\tdef f1(self):\n",
        "\t\tprint(\"f1 called. . .\")\n",
        "\t\tprint(Sample.i)\n",
        "\t\tprint(self.i)\n",
        "\n",
        "s1=Sample()\n",
        "s1.f1()\n",
        "print(Sample.i)\n",
        "print(s1.i)\n"
      ]
    },
    {
      "cell_type": "markdown",
      "metadata": {
        "id": "SOF4WBVozQii"
      },
      "source": [
        "- Class Methods\n",
        "\n",
        "- Creating Class Methods\n",
        "\n",
        "- Accessing Class Methods\n",
        "\n",
        "- Static Methods\n",
        "\n",
        "- Accessing Static Methods\n",
        "\n",
        "- Difference Between Instance Method , Class Method and Static Methods\n"
      ]
    },
    {
      "cell_type": "markdown",
      "metadata": {
        "id": "sPFcUUB-zQii"
      },
      "source": [
        "Just like we can have class variables , similarly Python also allows us to create class methods.\n",
        "\n",
        "\n",
        "\n",
        "These are those methods which work on the class as a whole , instead of working on it’s object.\n",
        "\n",
        "\n",
        "For , example in our Emp class if we want to initialize the class variable raise_per inside a method , then the best way would be to create a class method for this purpose\n"
      ]
    },
    {
      "cell_type": "code",
      "execution_count": null,
      "metadata": {
        "id": "jj9mHV0rzQij"
      },
      "outputs": [],
      "source": [
        "To create a class method we write the special word @classmethod on top of method definition\n",
        "\n",
        "Syntax:\n",
        "class <class_name>:\n",
        "@classmethod #decorator\n",
        "def  <method_name>(cls)\n",
        "// class specific code\n"
      ]
    },
    {
      "cell_type": "markdown",
      "metadata": {
        "id": "aXcwCb-JzQij"
      },
      "source": [
        "Notice that a class method gets a special object reference passed as argument by Python called as class refercnce\n"
      ]
    },
    {
      "cell_type": "markdown",
      "metadata": {
        "id": "95k-cLAMzQij"
      },
      "source": [
        "To define a class method it is compulsory to use the decorator @classmethod\n",
        "\n",
        "\n",
        "ClassMethods can only access class level data and not instance specific data\n",
        "\n",
        "Just like Python passed self as argument to instance methods , it automatically passes cls as argument to classmethods\n",
        "\n",
        "\n",
        "The argument cls is always passed as the first argument and represents the class object.\n"
      ]
    },
    {
      "cell_type": "markdown",
      "metadata": {
        "id": "SxHzeTEVzQik"
      },
      "source": [
        "Recall , that for every class Python creates a special object called class object , so the reference cls points to this object.\n",
        "\n",
        "\n",
        "\n",
        "\n",
        "The name cls is just a convention , although we can give any name to it.\n",
        "\n",
        "To call a classmethod we simply prefix it with classname followed by dot operator.\n",
        "\n",
        "\n",
        "Although we can use object reference also to call a classmethod but it is highly recommended not to do so , since classmethods do not work upon individual instances of the class \n",
        "\n"
      ]
    },
    {
      "cell_type": "markdown",
      "metadata": {
        "id": "E8VZ6QZUzQik"
      },
      "source": [
        "Write a program to create a class called Emp , having an instance members called name , age and sal . Also declare a class variable called raise_amount to store the increment percentage of sal and set it the value given by the user\n",
        "Now provide following methods in your class"
      ]
    },
    {
      "cell_type": "markdown",
      "metadata": {
        "id": "1VTHWdSTzQik"
      },
      "source": [
        "\n",
        "__init___() : This method should initialize instance members  with the parameter passed\n",
        "increase_sal(): This method should calculate the increment in sal and add ot to the instance member sal\n",
        "display(): This method should display name , age and sal of the employee\n",
        "Finally , in the main script , create 2 Emp objects , initialize them and increase their salary . Finally display the data\n"
      ]
    },
    {
      "cell_type": "code",
      "execution_count": null,
      "metadata": {
        "id": "Q8uSgDuXzQil"
      },
      "outputs": [],
      "source": [
        "class Emp:\n",
        "    raise_amount=0\n",
        "    @classmethod\n",
        "    def set_raise_amount(cls):\n",
        "        print(id(cls))\n",
        "        cls.raise_amount=float(input(\"Enter raise percentage:\"))##This can can also be written as Emp.raise_amount\n",
        "\n",
        "    def __init__(self,name,age,sal):\n",
        "        print(id(self))\n",
        "        self.name=name\n",
        "        self.age=age\n",
        "        self.sal=sal\n",
        "    def increase_sal(self):\n",
        "        self.sal=self.sal+(self.sal*Emp.raise_amount/100)\n",
        "    def display(self):\n",
        "        print(self.name,self.age,self.sal)\n"
      ]
    },
    {
      "cell_type": "code",
      "execution_count": null,
      "metadata": {
        "id": "dGkMR8UezQim",
        "outputId": "a38339fd-49e4-455a-89ac-e4f30774a901"
      },
      "outputs": [
        {
          "name": "stdout",
          "output_type": "stream",
          "text": [
            "1759103895504\n",
            "Enter raise percentage:10\n"
          ]
        }
      ],
      "source": [
        "Emp.set_raise_amount()"
      ]
    },
    {
      "cell_type": "code",
      "execution_count": null,
      "metadata": {
        "id": "3ecbGmD_zQim",
        "outputId": "4042cef6-2099-49c8-c4cb-51124c803221"
      },
      "outputs": [
        {
          "name": "stdout",
          "output_type": "stream",
          "text": [
            "1759130971008\n",
            "1759130971008\n"
          ]
        }
      ],
      "source": [
        "e1=Emp(\"Amit\",24,50000.0)\n",
        "print(id(e1))"
      ]
    },
    {
      "cell_type": "code",
      "execution_count": null,
      "metadata": {
        "id": "AGHb4xJOzQin",
        "outputId": "8acd545f-414d-4e17-e00f-74d140a20931"
      },
      "outputs": [
        {
          "name": "stdout",
          "output_type": "stream",
          "text": [
            "Amit 24 50000.0\n"
          ]
        }
      ],
      "source": [
        "e1.display()"
      ]
    },
    {
      "cell_type": "code",
      "execution_count": null,
      "metadata": {
        "id": "ra8k2aRuzQio"
      },
      "outputs": [],
      "source": [
        "e1.increase_sal()"
      ]
    },
    {
      "cell_type": "code",
      "execution_count": null,
      "metadata": {
        "id": "hrEa3TM0zQio",
        "outputId": "b4a0f1d5-3be6-4656-99ca-6b9fb43aa261"
      },
      "outputs": [
        {
          "name": "stdout",
          "output_type": "stream",
          "text": [
            "Amit 24 55000.0\n"
          ]
        }
      ],
      "source": [
        "e1.display()"
      ]
    },
    {
      "cell_type": "code",
      "execution_count": null,
      "metadata": {
        "id": "Ebzo3SXazQip"
      },
      "outputs": [],
      "source": [
        "class Emp:\n",
        "    def __init__(self,name,age,sal):\n",
        "        print(id(self))\n",
        "        self.name=name\n",
        "        self.age=age\n",
        "        self.sal=sal\n",
        "    def increase_sal(self):\n",
        "        self.sal=self.sal+(self.sal*Emp.raise_amount/100)\n",
        "    def display(self):\n",
        "        print(self.name,self.age,self.sal)\n"
      ]
    },
    {
      "cell_type": "code",
      "execution_count": null,
      "metadata": {
        "id": "6gdkedfBzQip"
      },
      "outputs": [],
      "source": [
        "Emp.set_raise_amount()"
      ]
    },
    {
      "cell_type": "code",
      "execution_count": null,
      "metadata": {
        "id": "0OPPQVRGzQiq",
        "outputId": "b4f2bdb5-0a41-4163-818a-8b05745d66db"
      },
      "outputs": [
        {
          "name": "stdout",
          "output_type": "stream",
          "text": [
            "1759114747040\n"
          ]
        }
      ],
      "source": [
        "e1=Emp(\"Amit\",24,50000.0)"
      ]
    },
    {
      "cell_type": "code",
      "execution_count": null,
      "metadata": {
        "id": "fY0g4w_fzQir",
        "outputId": "54e1d93c-d285-41a2-ebec-4d0be7cbaa42"
      },
      "outputs": [
        {
          "name": "stdout",
          "output_type": "stream",
          "text": [
            "Amit 24 50000.0\n"
          ]
        }
      ],
      "source": [
        "e1.display()"
      ]
    },
    {
      "cell_type": "code",
      "execution_count": null,
      "metadata": {
        "id": "4gBlOsr1zQis",
        "outputId": "078a1254-56b8-44d1-ee65-0cfb784e71ec"
      },
      "outputs": [
        {
          "name": "stdout",
          "output_type": "stream",
          "text": [
            "1759114747040\n"
          ]
        }
      ],
      "source": [
        "print(id(e1))"
      ]
    },
    {
      "cell_type": "code",
      "execution_count": null,
      "metadata": {
        "id": "StgJH_EazQit"
      },
      "outputs": [],
      "source": [
        "e2=Emp(\"Sunny\",25,25000.0)"
      ]
    },
    {
      "cell_type": "code",
      "execution_count": null,
      "metadata": {
        "id": "0Wqw2iATzQiu",
        "outputId": "cd944632-9f2d-4e78-ee50-96e25fc2f81c"
      },
      "outputs": [
        {
          "name": "stdout",
          "output_type": "stream",
          "text": [
            "Sunny 25 25000.0\n"
          ]
        }
      ],
      "source": [
        "e2.display()"
      ]
    },
    {
      "cell_type": "code",
      "execution_count": null,
      "metadata": {
        "id": "UwTto8oczQiu"
      },
      "outputs": [],
      "source": [
        "e2.increase_sal()"
      ]
    },
    {
      "cell_type": "code",
      "execution_count": null,
      "metadata": {
        "id": "1rwXGUeuzQiv",
        "outputId": "56900d6c-d8ff-4ab5-8b4a-25750f0eafe1"
      },
      "outputs": [
        {
          "name": "stdout",
          "output_type": "stream",
          "text": [
            "Sunny 25 27500.0\n"
          ]
        }
      ],
      "source": [
        "e2.display()"
      ]
    },
    {
      "cell_type": "code",
      "execution_count": null,
      "metadata": {
        "id": "aJiTOVjyzQiv",
        "outputId": "093c3d56-4900-48a7-fa3d-f05918143e27"
      },
      "outputs": [
        {
          "name": "stdout",
          "output_type": "stream",
          "text": [
            "Enter raise percentage:50\n"
          ]
        }
      ],
      "source": [
        "Emp.set_raise_amount()"
      ]
    },
    {
      "cell_type": "code",
      "execution_count": null,
      "metadata": {
        "id": "CLD-aYIwzQiv"
      },
      "outputs": [],
      "source": [
        "e2.increase_sal()"
      ]
    },
    {
      "cell_type": "code",
      "execution_count": null,
      "metadata": {
        "id": "o708GhuWzQiw",
        "outputId": "8b82a696-8c1e-4b13-f476-b5228c874a0d"
      },
      "outputs": [
        {
          "name": "stdout",
          "output_type": "stream",
          "text": [
            "Sunny 25 41250.0\n"
          ]
        }
      ],
      "source": [
        "e2.display()"
      ]
    },
    {
      "cell_type": "code",
      "execution_count": null,
      "metadata": {
        "id": "TfRUluBbzQiw"
      },
      "outputs": [],
      "source": [
        "\t\n",
        "\n",
        "\n",
        "print(\"Before incrementing :\")\n",
        "print(\"_____________________\");\n",
        "e1.display()\n",
        "e2.display()\n",
        "e1.increase_sal()\n",
        "e2.increase_sal()\n",
        "print()\n",
        "print(\"After incrementing by\",Emp.raise_amount,\"percent:\")\n",
        "print(\"__________________________________\");\n",
        "e1.display()\n",
        "e2.display()\n"
      ]
    },
    {
      "cell_type": "code",
      "execution_count": null,
      "metadata": {
        "id": "wPT0RazHzQiw"
      },
      "outputs": [],
      "source": [
        "Another very important use of classmethod is to work as Factory methods\n",
        "\n",
        "Factory methods are those methods which return a class object (like constructor) for different use cases.\n",
        "\n",
        "\n",
        "It is similar to function overloading in C++ , but since, Python doesn't have anything as such, so we use classmethods for this\n"
      ]
    },
    {
      "cell_type": "code",
      "execution_count": null,
      "metadata": {
        "id": "2QG7x2nqzQix"
      },
      "outputs": [],
      "source": [
        "To understand this , suppose we want to create a class called Date , which allows us to instantiate date objects.\n",
        "\n",
        "\n",
        "\n",
        "\n",
        "Obviously , we will have __init__() method , which will accept 3 parameters representing day , month and year and will initialize instance members with them\n"
      ]
    },
    {
      "cell_type": "code",
      "execution_count": null,
      "metadata": {
        "id": "ih0jJhFlzQix"
      },
      "outputs": [],
      "source": [
        "class Date:\n",
        "    def __init__(self, day=10, month=10, year=2000):\n",
        "        self.day=day\n",
        "        self.month=month\n",
        "        self.year=year\n",
        "    def show(self):\n",
        "        print(self.day,self.month,self.year,sep=\"/\")\n"
      ]
    },
    {
      "cell_type": "code",
      "execution_count": null,
      "metadata": {
        "id": "shaSN0ghzQix"
      },
      "outputs": [],
      "source": [
        "d1=Date(10,12,2016)\n",
        "d1.show()\n"
      ]
    },
    {
      "cell_type": "code",
      "execution_count": null,
      "metadata": {
        "id": "rLJCo327zQiy"
      },
      "outputs": [],
      "source": [
        "Now suppose we also want to allow date arguments to be passed as a single string (“10-12-206”) to make it convenient for other programmers to create objects of our Date class.\n",
        "\n",
        "\n",
        "For this we can create a classmethod in the class which accepts a string representing date as argument and creates and returns Date object\n"
      ]
    },
    {
      "cell_type": "code",
      "execution_count": null,
      "metadata": {
        "id": "L6G9RgwazQiy"
      },
      "outputs": [],
      "source": [
        "class Date:\n",
        "    def __init__(self, day=10, month=10, year=2000):\n",
        "        self.day=day\n",
        "        self.month=month\n",
        "        self.year=year\n",
        "    def show(self):\n",
        "        print(self.day,self.month,self.year,sep=\"/\")\n",
        "    @classmethod\n",
        "    def from_string(cls, string_date):\n",
        "        day, month, year = map(int, string_date.split('-'))\n",
        "        myDate = cls(day, month, year)\n",
        "        return myDate\n",
        "\n"
      ]
    },
    {
      "cell_type": "code",
      "execution_count": null,
      "metadata": {
        "id": "-xiXusQ1zQiy"
      },
      "outputs": [],
      "source": [
        "d1=Date(10,12,2016)\n",
        "d1.show()\n",
        "d2=Date.from_string(\"15-11-2017\")\n",
        "d2.show()\n"
      ]
    },
    {
      "cell_type": "markdown",
      "metadata": {
        "id": "qGrEvtjFzQiz"
      },
      "source": [
        "# Static method"
      ]
    },
    {
      "cell_type": "markdown",
      "metadata": {
        "id": "LLmlWzubzQiz"
      },
      "source": [
        "The third type of method a Python class can contain are called static methods\n",
        "\n",
        "Static methods, much like class methods, are methods that are bound to a class rather than it’s object.\n",
        "\n",
        "Just like class methods , they also do not require any object to be called and can be called using name of the class\n",
        "\n"
      ]
    },
    {
      "cell_type": "markdown",
      "metadata": {
        "id": "DV8ZbU2IzQiz"
      },
      "source": [
        "The difference between a static method and a class method is:\n",
        "Static method knows nothing about the class and just deals with the parameters.\n",
        "\n",
        "Class method works with the class since it’s parameter is always the class itself.\n",
        "\n",
        "This means that a static method doesn’t even get cls reference unlike a class method\n",
        "\n",
        "It knows nothing about the class and is only interested to work upon  it’s parameters\n"
      ]
    },
    {
      "cell_type": "code",
      "execution_count": null,
      "metadata": {
        "id": "tBzaTK72zQi0"
      },
      "outputs": [],
      "source": [
        "To create a static method we write the decorator @staticmethod on top of method definition\n",
        "\n",
        "Syntax:\n",
        "class <class_name>:\n",
        "@staticmethod\n",
        "def  <method_name>(<arg_list> )\n",
        "    pass ##argument specific code\n",
        "\n",
        "#Notice that a static method doesn’t get any implicit argument by Python\n"
      ]
    },
    {
      "cell_type": "code",
      "execution_count": null,
      "metadata": {
        "id": "xlSXB3UQzQi0"
      },
      "outputs": [],
      "source": [
        "class MyMath:\n",
        "    @staticmethod\n",
        "    def add_nos(a,b):\n",
        "        c=a+b\n",
        "        return c\n",
        "    @staticmethod\n",
        "    def mult_nos(a,b):\n",
        "        c=a*b\n",
        "        return c\n",
        "\n"
      ]
    },
    {
      "cell_type": "code",
      "execution_count": null,
      "metadata": {
        "id": "0qrMiHKdzQi0",
        "outputId": "38cf4838-1192-4c49-ffb3-319bb4e9cad9"
      },
      "outputs": [
        {
          "name": "stdout",
          "output_type": "stream",
          "text": [
            "Sum of 10 and 20 is 30\n"
          ]
        }
      ],
      "source": [
        "print(\"Sum of 10 and 20 is\",MyMath.add_nos(10,20))"
      ]
    },
    {
      "cell_type": "code",
      "execution_count": null,
      "metadata": {
        "id": "5qa3JAYFzQi1",
        "outputId": "fb315420-0d19-4211-cf90-31a6dba46a51"
      },
      "outputs": [
        {
          "name": "stdout",
          "output_type": "stream",
          "text": [
            "Product of 10 and 20 is 200\n"
          ]
        }
      ],
      "source": [
        "\n",
        "print(\"Product of 10 and 20 is\",MyMath.mult_nos(10,20))\n",
        "\n"
      ]
    },
    {
      "cell_type": "code",
      "execution_count": null,
      "metadata": {
        "id": "flGzEXZ8zQi1"
      },
      "outputs": [],
      "source": [
        "A static method can access class data using the name of the class.\n",
        "\n",
        "For example , the method set_raise( ) in our Emp example can be also be declared as static method instead of class method\n",
        "\n",
        "class Emp:\n",
        "    raise_amount=0\n",
        "    @staticmethod\n",
        "    def set_raise_amount():\n",
        "        Emp.raise_amount=float(input(\"Enter raise percentage:\"))#No cls argument is there so to access the class data raise_amount we have to use class name Emp\n",
        "\n",
        "\n"
      ]
    },
    {
      "cell_type": "markdown",
      "metadata": {
        "id": "6BrWmtEIzQi1"
      },
      "source": [
        "If we don’t use the decorator @staticmethod , then 2 things can happen:\n",
        "\n",
        "If we call the method using object reference Python will consider it to be instance method\n",
        "\n",
        "If we are calling it using classname , then Python will consider it to be a static method\n"
      ]
    },
    {
      "cell_type": "code",
      "execution_count": null,
      "metadata": {
        "id": "xaM2bT8ZzQi2"
      },
      "outputs": [],
      "source": [
        "class Demo:\n",
        "    def display():\n",
        "        print(\"Inside display\")"
      ]
    },
    {
      "cell_type": "code",
      "execution_count": null,
      "metadata": {
        "id": "evpG5PIizQi2",
        "outputId": "5cddaea8-62e6-430e-8568-d43cc2229b6d"
      },
      "outputs": [
        {
          "name": "stdout",
          "output_type": "stream",
          "text": [
            "Inside display\n"
          ]
        }
      ],
      "source": [
        "Demo.display()"
      ]
    },
    {
      "cell_type": "code",
      "execution_count": null,
      "metadata": {
        "id": "j7adELnDzQi3"
      },
      "outputs": [],
      "source": [
        "d=Demo()"
      ]
    },
    {
      "cell_type": "code",
      "execution_count": null,
      "metadata": {
        "id": "77kL3K7uzQi3",
        "outputId": "1a2c2d66-ae39-4e6f-9eb4-7c586b823f08"
      },
      "outputs": [
        {
          "name": "stdout",
          "output_type": "stream",
          "text": [
            "Inside display\n"
          ]
        }
      ],
      "source": [
        "d.display()\n"
      ]
    },
    {
      "cell_type": "markdown",
      "metadata": {
        "id": "lXmZObzyzQi3"
      },
      "source": [
        "Since we have not used the decorator @staticmethod with the method display ( ) and we are calling it using object reference , so Python is considering it to be an instance method. As we know to every instance method Python passes an implicit argument called self and we have to receive it in our method ,but in display we haven’t done so. Thus the code is throwing TypeError\n"
      ]
    },
    {
      "cell_type": "code",
      "execution_count": null,
      "metadata": {
        "id": "nUIJjSlzzQi4"
      },
      "outputs": [],
      "source": [
        "class Demo:\n",
        "    def display():\n",
        "        print(\"Inside display\")"
      ]
    },
    {
      "cell_type": "code",
      "execution_count": null,
      "metadata": {
        "id": "j3cpGZQOzQi4",
        "outputId": "d698e282-7c34-45eb-aa38-af1ca7bfd5d8"
      },
      "outputs": [
        {
          "name": "stdout",
          "output_type": "stream",
          "text": [
            "Inside display\n"
          ]
        }
      ],
      "source": [
        "Demo.display()\n"
      ]
    },
    {
      "cell_type": "code",
      "execution_count": null,
      "metadata": {
        "id": "z0JKm8kOzQi4"
      },
      "outputs": [],
      "source": [
        "class Demo:\n",
        "    def display(self):\n",
        "        print(\"Inside display\")\n"
      ]
    },
    {
      "cell_type": "code",
      "execution_count": null,
      "metadata": {
        "id": "EIl3lyfKzQi5",
        "outputId": "6b7fcef2-2027-437b-df3f-e3b5da25e90b"
      },
      "outputs": [
        {
          "ename": "TypeError",
          "evalue": "display() missing 1 required positional argument: 'self'",
          "output_type": "error",
          "traceback": [
            "\u001b[1;31m---------------------------------------------------------------------------\u001b[0m",
            "\u001b[1;31mTypeError\u001b[0m                                 Traceback (most recent call last)",
            "\u001b[1;32m<ipython-input-54-025db715e3be>\u001b[0m in \u001b[0;36m<module>\u001b[1;34m\u001b[0m\n\u001b[1;32m----> 1\u001b[1;33m \u001b[0mDemo\u001b[0m\u001b[1;33m.\u001b[0m\u001b[0mdisplay\u001b[0m\u001b[1;33m(\u001b[0m\u001b[1;33m)\u001b[0m\u001b[1;33m\u001b[0m\u001b[1;33m\u001b[0m\u001b[0m\n\u001b[0m",
            "\u001b[1;31mTypeError\u001b[0m: display() missing 1 required positional argument: 'self'"
          ]
        }
      ],
      "source": [
        "Demo.display()\n"
      ]
    },
    {
      "cell_type": "markdown",
      "metadata": {
        "id": "fWLm_OB5zQi5"
      },
      "source": [
        "Don’t think Python is considering it as an instance method . Python is still considering it a static method because we are calling it using class name .The Exception is occurring because the method is parameterized and we are not passing it any argument.\n"
      ]
    },
    {
      "cell_type": "code",
      "execution_count": null,
      "metadata": {
        "id": "zIWc3KpfzQi5"
      },
      "outputs": [],
      "source": [
        "class Demo:\n",
        "    def display(self):\n",
        "        print(\"Inside display\")\n",
        "\n",
        "Demo.display(“Hello”)\n"
      ]
    },
    {
      "cell_type": "markdown",
      "metadata": {
        "id": "UJ9sMlzCzQi6"
      },
      "source": [
        "Now since the required argument has been passed , Python has successfully executed the method as a static method\n"
      ]
    },
    {
      "cell_type": "code",
      "execution_count": null,
      "metadata": {
        "id": "t9RcPB0VzQi6"
      },
      "outputs": [],
      "source": [
        "class Demo:\n",
        "    def display(self):\n",
        "        print(\"Inside display\")"
      ]
    },
    {
      "cell_type": "code",
      "execution_count": null,
      "metadata": {
        "id": "Kp0_eDDozQi7"
      },
      "outputs": [],
      "source": [
        "\n",
        "D=Demo()"
      ]
    },
    {
      "cell_type": "code",
      "execution_count": null,
      "metadata": {
        "id": "pIn_Rj-5zQi7",
        "outputId": "25d88c17-03ce-431c-99c4-0867b925a45d"
      },
      "outputs": [
        {
          "name": "stdout",
          "output_type": "stream",
          "text": [
            "Inside display\n"
          ]
        }
      ],
      "source": [
        "\n",
        "\n",
        "D.display( )\n"
      ]
    },
    {
      "cell_type": "markdown",
      "metadata": {
        "id": "CY-oOosWzQi7"
      },
      "source": [
        "Now since we are calling it using the object reference , Python has passed the first argument as address of the object and executed the code considering the method as an instance method\n"
      ]
    },
    {
      "cell_type": "markdown",
      "metadata": {
        "id": "rxMkdWhXzQi8"
      },
      "source": [
        "It is a common questions , beginners face as to when to use which type of method amongst instance methods , class methods and static methods:\n",
        "\n",
        "The answer is:\n",
        "\n",
        "Instance Methods: The most common method type. Able to access data and properties unique to each instance.\n",
        "\n",
        "Static Methods: Cannot access anything else in the class. Totally self-contained code.\n",
        "\n",
        "Class Methods: Can access limited methods in the class. Can modify class specific details.\n"
      ]
    },
    {
      "cell_type": "markdown",
      "metadata": {
        "id": "K-YcvLxCzQi8"
      },
      "source": [
        "Pillar of object oriented programming\n",
        "\n",
        "### Encapsulation\n",
        "\n",
        "- Encapsulation\n",
        "\n",
        "- Does Python Support Encapsulation ?\n",
        "\n",
        "- How To Declare Private Members In Python ?\n",
        "\n",
        "- The setattr( ) And getattr( ) Functions\n",
        "\n",
        "- The object Class And The __repr__() Method\n",
        "\n",
        "- The Destructor\n"
      ]
    },
    {
      "cell_type": "markdown",
      "metadata": {
        "id": "4_1AM_C6zQi8"
      },
      "source": [
        "### Inheritance\n",
        "\n",
        "- Inheritance\n",
        "\n",
        "- Types Of Inheritance \n",
        "\n",
        "- Single Inheritance\n",
        "\n",
        "- Using super( )\n",
        "\n",
        "- Method Overriding\n",
        "\n",
        "- MultiLevel Inheritance\n",
        "\n",
        "- Hierarchical Inheritance\n",
        "\n",
        "- Using The Function issubclass( )\n",
        "\n",
        "- Using The Function isinstance( )\n",
        "\n",
        "- Multiple Inheritance\n",
        "\n",
        "- The MRO Algorithm\n",
        "\n",
        "- Hybrid Inheritance\n",
        "\n",
        "- The Diamond Problem\n"
      ]
    },
    {
      "cell_type": "markdown",
      "metadata": {
        "id": "C8qIJRPnzQi8"
      },
      "source": [
        "### Polymorphism\n",
        "\n",
        "- Operator Overloading\n"
      ]
    },
    {
      "cell_type": "markdown",
      "metadata": {
        "id": "4XuIYOQdzQi9"
      },
      "source": [
        "### Abstraction in python\n",
        "\n",
        "- Why Abstraction is Important?\n",
        "\n",
        "- Abstraction classes in Python\n",
        "\n",
        "- Abstract Base Classes\n",
        "\n",
        "- Working of the Abstract Classes"
      ]
    },
    {
      "cell_type": "code",
      "execution_count": null,
      "metadata": {
        "id": "BZOFSuKHzQi9"
      },
      "outputs": [],
      "source": []
    }
  ],
  "metadata": {
    "colab": {
      "collapsed_sections": [],
      "provenance": [],
      "toc_visible": true
    },
    "kernelspec": {
      "display_name": "Python 3",
      "language": "python",
      "name": "python3"
    },
    "language_info": {
      "codemirror_mode": {
        "name": "ipython",
        "version": 3
      },
      "file_extension": ".py",
      "mimetype": "text/x-python",
      "name": "python",
      "nbconvert_exporter": "python",
      "pygments_lexer": "ipython3",
      "version": "3.8.3"
    }
  },
  "nbformat": 4,
  "nbformat_minor": 0
}